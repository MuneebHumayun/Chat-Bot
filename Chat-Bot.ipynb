{
 "cells": [
  {
   "cell_type": "code",
   "execution_count": 22,
   "metadata": {},
   "outputs": [],
   "source": [
    "from newspaper import Article\n",
    "import random\n",
    "import string\n",
    "from sklearn.feature_extraction.text import TfidfVectorizer\n",
    "from sklearn.metrics.pairwise import cosine_similarity\n",
    "import nltk\n",
    "import numpy as np\n",
    "import warnings\n",
    "from tensorflow.keras import models\n"
   ]
  },
  {
   "cell_type": "code",
   "execution_count": 2,
   "metadata": {},
   "outputs": [],
   "source": [
    "#Ignore any warning messages\n",
    "warnings.filterwarnings('ignore')"
   ]
  },
  {
   "cell_type": "code",
   "execution_count": 3,
   "metadata": {},
   "outputs": [
    {
     "data": {
      "text/plain": [
       "True"
      ]
     },
     "execution_count": 3,
     "metadata": {},
     "output_type": "execute_result"
    }
   ],
   "source": [
    "nltk.download('punkt', quiet=True)\n",
    "nltk.download('wordnet', quiet=True)"
   ]
  },
  {
   "cell_type": "code",
   "execution_count": 4,
   "metadata": {},
   "outputs": [
    {
     "name": "stdout",
     "output_type": "stream",
     "text": [
      "Overview\n",
      "\n",
      "Chronic kidney disease, also called chronic kidney failure, describes the gradual loss of kidney function. Your kidneys filter wastes and excess fluids from your blood, which are then excreted in your urine. When chronic kidney disease reaches an advanced stage, dangerous levels of fluid, electrolytes and wastes can build up in your body.\n",
      "\n",
      "In the early stages of chronic kidney disease, you may have few signs or symptoms. Chronic kidney disease may not become apparent until your kidney function is significantly impaired.\n",
      "\n",
      "Treatment for chronic kidney disease focuses on slowing the progression of the kidney damage, usually by controlling the underlying cause. Chronic kidney disease can progress to end-stage kidney failure, which is fatal without artificial filtering (dialysis) or a kidney transplant.\n",
      "\n",
      "Chronic kidney disease care at Mayo Clinic\n",
      "\n",
      "How kidneys work\n",
      "\n",
      "Symptoms\n",
      "\n",
      "Signs and symptoms of chronic kidney disease develop over time if kidney damage progresses slowly. Signs and symptoms of kidney disease may include:\n",
      "\n",
      "Nausea\n",
      "\n",
      "Vomiting\n",
      "\n",
      "Loss of appetite\n",
      "\n",
      "Fatigue and weakness\n",
      "\n",
      "Sleep problems\n",
      "\n",
      "Changes in how much you urinate\n",
      "\n",
      "Decreased mental sharpness\n",
      "\n",
      "Muscle twitches and cramps\n",
      "\n",
      "Swelling of feet and ankles\n",
      "\n",
      "Persistent itching\n",
      "\n",
      "Chest pain, if fluid builds up around the lining of the heart\n",
      "\n",
      "Shortness of breath, if fluid builds up in the lungs\n",
      "\n",
      "High blood pressure (hypertension) that's difficult to control\n",
      "\n",
      "Signs and symptoms of kidney disease are often nonspecific, meaning they can also be caused by other illnesses. Because your kidneys are highly adaptable and able to compensate for lost function, signs and symptoms may not appear until irreversible damage has occurred.\n",
      "\n",
      "When to see a doctor\n",
      "\n",
      "Make an appointment with your doctor if you have any signs or symptoms of kidney disease.\n",
      "\n",
      "If you have a medical condition that increases your risk of kidney disease, your doctor is likely to monitor your blood pressure and kidney function with urine and blood tests during regular office visits. Ask your doctor whether these tests are necessary for you.\n",
      "\n",
      "Causes\n",
      "\n",
      "Normal kidney vs. diseased kidney Open pop-up dialog box Close Normal kidney vs. diseased kidney Normal kidney vs. diseased kidney A normal kidney has about 1 million filtering units. Each unit, called a glomerulus, connects to a tubule, which collects urine. Conditions such as high blood pressure and diabetes take a toll on kidney function by damaging these filtering units and collecting tubules and causing scarring.\n",
      "\n",
      "Polycystic kidney Open pop-up dialog box Close Polycystic kidney Polycystic kidney A healthy kidney (left) eliminates waste from the blood and maintains the body's normal chemical balance. Fluid-filled sacs (right), called cysts, characterize polycystic kidney disease.\n",
      "\n",
      "Chronic kidney disease occurs when a disease or condition impairs kidney function, causing kidney damage to worsen over several months or years.\n",
      "\n",
      "Diseases and conditions that cause chronic kidney disease include:\n",
      "\n",
      "Type 1 or type 2 diabetes\n",
      "\n",
      "High blood pressure\n",
      "\n",
      "Glomerulonephritis (gloe-mer-u-low-nuh-FRY-tis), an inflammation of the kidney's filtering units (glomeruli)\n",
      "\n",
      "Interstitial nephritis (in-tur-STISH-ul nuh-FRY-tis), an inflammation of the kidney's tubules and surrounding structures\n",
      "\n",
      "Polycystic kidney disease\n",
      "\n",
      "Prolonged obstruction of the urinary tract, from conditions such as enlarged prostate, kidney stones and some cancers\n",
      "\n",
      "Vesicoureteral (ves-ih-koe-yoo-REE-tur-ul) reflux, a condition that causes urine to back up into your kidneys\n",
      "\n",
      "Recurrent kidney infection, also called pyelonephritis (pie-uh-low-nuh-FRY-tis)\n",
      "\n",
      "Risk factors\n",
      "\n",
      "Factors that may increase your risk of chronic kidney disease include:\n",
      "\n",
      "Diabetes\n",
      "\n",
      "High blood pressure\n",
      "\n",
      "Heart and blood vessel (cardiovascular) disease\n",
      "\n",
      "Smoking\n",
      "\n",
      "Obesity\n",
      "\n",
      "Being African-American, Native American or Asian-American\n",
      "\n",
      "Family history of kidney disease\n",
      "\n",
      "Abnormal kidney structure\n",
      "\n",
      "Older age\n",
      "\n",
      "Complications\n",
      "\n",
      "Chronic kidney disease can affect almost every part of your body. Potential complications may include:\n",
      "\n",
      "Fluid retention, which could lead to swelling in your arms and legs, high blood pressure, or fluid in your lungs (pulmonary edema)\n",
      "\n",
      "A sudden rise in potassium levels in your blood (hyperkalemia), which could impair your heart's ability to function and may be life-threatening\n",
      "\n",
      "Heart and blood vessel (cardiovascular) disease\n",
      "\n",
      "Weak bones and an increased risk of bone fractures\n",
      "\n",
      "Anemia\n",
      "\n",
      "Decreased sex drive, erectile dysfunction or reduced fertility\n",
      "\n",
      "Damage to your central nervous system, which can cause difficulty concentrating, personality changes or seizures\n",
      "\n",
      "Decreased immune response, which makes you more vulnerable to infection\n",
      "\n",
      "Pericarditis, an inflammation of the saclike membrane that envelops your heart (pericardium)\n",
      "\n",
      "Pregnancy complications that carry risks for the mother and the developing fetus\n",
      "\n",
      "Irreversible damage to your kidneys (end-stage kidney disease), eventually requiring either dialysis or a kidney transplant for survival\n",
      "\n",
      "Prevention\n",
      "\n",
      "To reduce your risk of developing kidney disease:\n"
     ]
    }
   ],
   "source": [
    "article = Article('https://www.mayoclinic.org/diseases-conditions/chronic-kidney-disease/symptoms-causes/syc-20354521')\n",
    "article.download()\n",
    "article.parse()\n",
    "article.nlp()\n",
    "corpus = article.text\n",
    "\n",
    "print(corpus)"
   ]
  },
  {
   "cell_type": "code",
   "execution_count": 5,
   "metadata": {},
   "outputs": [
    {
     "name": "stdout",
     "output_type": "stream",
     "text": [
      "['Overview\\n\\nChronic kidney disease, also called chronic kidney failure, describes the gradual loss of kidney function.', 'Your kidneys filter wastes and excess fluids from your blood, which are then excreted in your urine.', 'When chronic kidney disease reaches an advanced stage, dangerous levels of fluid, electrolytes and wastes can build up in your body.', 'In the early stages of chronic kidney disease, you may have few signs or symptoms.', 'Chronic kidney disease may not become apparent until your kidney function is significantly impaired.', 'Treatment for chronic kidney disease focuses on slowing the progression of the kidney damage, usually by controlling the underlying cause.', 'Chronic kidney disease can progress to end-stage kidney failure, which is fatal without artificial filtering (dialysis) or a kidney transplant.', 'Chronic kidney disease care at Mayo Clinic\\n\\nHow kidneys work\\n\\nSymptoms\\n\\nSigns and symptoms of chronic kidney disease develop over time if kidney damage progresses slowly.', \"Signs and symptoms of kidney disease may include:\\n\\nNausea\\n\\nVomiting\\n\\nLoss of appetite\\n\\nFatigue and weakness\\n\\nSleep problems\\n\\nChanges in how much you urinate\\n\\nDecreased mental sharpness\\n\\nMuscle twitches and cramps\\n\\nSwelling of feet and ankles\\n\\nPersistent itching\\n\\nChest pain, if fluid builds up around the lining of the heart\\n\\nShortness of breath, if fluid builds up in the lungs\\n\\nHigh blood pressure (hypertension) that's difficult to control\\n\\nSigns and symptoms of kidney disease are often nonspecific, meaning they can also be caused by other illnesses.\", 'Because your kidneys are highly adaptable and able to compensate for lost function, signs and symptoms may not appear until irreversible damage has occurred.', 'When to see a doctor\\n\\nMake an appointment with your doctor if you have any signs or symptoms of kidney disease.', 'If you have a medical condition that increases your risk of kidney disease, your doctor is likely to monitor your blood pressure and kidney function with urine and blood tests during regular office visits.', 'Ask your doctor whether these tests are necessary for you.', 'Causes\\n\\nNormal kidney vs. diseased kidney Open pop-up dialog box Close Normal kidney vs. diseased kidney Normal kidney vs. diseased kidney A normal kidney has about 1 million filtering units.', 'Each unit, called a glomerulus, connects to a tubule, which collects urine.', 'Conditions such as high blood pressure and diabetes take a toll on kidney function by damaging these filtering units and collecting tubules and causing scarring.', \"Polycystic kidney Open pop-up dialog box Close Polycystic kidney Polycystic kidney A healthy kidney (left) eliminates waste from the blood and maintains the body's normal chemical balance.\", 'Fluid-filled sacs (right), called cysts, characterize polycystic kidney disease.', 'Chronic kidney disease occurs when a disease or condition impairs kidney function, causing kidney damage to worsen over several months or years.', \"Diseases and conditions that cause chronic kidney disease include:\\n\\nType 1 or type 2 diabetes\\n\\nHigh blood pressure\\n\\nGlomerulonephritis (gloe-mer-u-low-nuh-FRY-tis), an inflammation of the kidney's filtering units (glomeruli)\\n\\nInterstitial nephritis (in-tur-STISH-ul nuh-FRY-tis), an inflammation of the kidney's tubules and surrounding structures\\n\\nPolycystic kidney disease\\n\\nProlonged obstruction of the urinary tract, from conditions such as enlarged prostate, kidney stones and some cancers\\n\\nVesicoureteral (ves-ih-koe-yoo-REE-tur-ul) reflux, a condition that causes urine to back up into your kidneys\\n\\nRecurrent kidney infection, also called pyelonephritis (pie-uh-low-nuh-FRY-tis)\\n\\nRisk factors\\n\\nFactors that may increase your risk of chronic kidney disease include:\\n\\nDiabetes\\n\\nHigh blood pressure\\n\\nHeart and blood vessel (cardiovascular) disease\\n\\nSmoking\\n\\nObesity\\n\\nBeing African-American, Native American or Asian-American\\n\\nFamily history of kidney disease\\n\\nAbnormal kidney structure\\n\\nOlder age\\n\\nComplications\\n\\nChronic kidney disease can affect almost every part of your body.\", \"Potential complications may include:\\n\\nFluid retention, which could lead to swelling in your arms and legs, high blood pressure, or fluid in your lungs (pulmonary edema)\\n\\nA sudden rise in potassium levels in your blood (hyperkalemia), which could impair your heart's ability to function and may be life-threatening\\n\\nHeart and blood vessel (cardiovascular) disease\\n\\nWeak bones and an increased risk of bone fractures\\n\\nAnemia\\n\\nDecreased sex drive, erectile dysfunction or reduced fertility\\n\\nDamage to your central nervous system, which can cause difficulty concentrating, personality changes or seizures\\n\\nDecreased immune response, which makes you more vulnerable to infection\\n\\nPericarditis, an inflammation of the saclike membrane that envelops your heart (pericardium)\\n\\nPregnancy complications that carry risks for the mother and the developing fetus\\n\\nIrreversible damage to your kidneys (end-stage kidney disease), eventually requiring either dialysis or a kidney transplant for survival\\n\\nPrevention\\n\\nTo reduce your risk of developing kidney disease:\"]\n"
     ]
    }
   ],
   "source": [
    "text = corpus\n",
    "sent_tokens = nltk.sent_tokenize(text)\n",
    "print(sent_tokens)"
   ]
  },
  {
   "cell_type": "code",
   "execution_count": 6,
   "metadata": {},
   "outputs": [
    {
     "name": "stdout",
     "output_type": "stream",
     "text": [
      "!\"#$%&'()*+,-./:;<=>?@[\\]^_`{|}~\n",
      "{33: None, 34: None, 35: None, 36: None, 37: None, 38: None, 39: None, 40: None, 41: None, 42: None, 43: None, 44: None, 45: None, 46: None, 47: None, 58: None, 59: None, 60: None, 61: None, 62: None, 63: None, 64: None, 91: None, 92: None, 93: None, 94: None, 95: None, 96: None, 123: None, 124: None, 125: None, 126: None}\n"
     ]
    }
   ],
   "source": [
    "remove_punct_dict = dict(  (ord(punct),None) for punct in string.punctuation)\n",
    "print(string.punctuation)\n",
    "print(remove_punct_dict)"
   ]
  },
  {
   "cell_type": "code",
   "execution_count": 7,
   "metadata": {},
   "outputs": [
    {
     "name": "stdout",
     "output_type": "stream",
     "text": [
      "['overview', 'chronic', 'kidney', 'disease', 'also', 'called', 'chronic', 'kidney', 'failure', 'describes', 'the', 'gradual', 'loss', 'of', 'kidney', 'function', 'your', 'kidneys', 'filter', 'wastes', 'and', 'excess', 'fluids', 'from', 'your', 'blood', 'which', 'are', 'then', 'excreted', 'in', 'your', 'urine', 'when', 'chronic', 'kidney', 'disease', 'reaches', 'an', 'advanced', 'stage', 'dangerous', 'levels', 'of', 'fluid', 'electrolytes', 'and', 'wastes', 'can', 'build', 'up', 'in', 'your', 'body', 'in', 'the', 'early', 'stages', 'of', 'chronic', 'kidney', 'disease', 'you', 'may', 'have', 'few', 'signs', 'or', 'symptoms', 'chronic', 'kidney', 'disease', 'may', 'not', 'become', 'apparent', 'until', 'your', 'kidney', 'function', 'is', 'significantly', 'impaired', 'treatment', 'for', 'chronic', 'kidney', 'disease', 'focuses', 'on', 'slowing', 'the', 'progression', 'of', 'the', 'kidney', 'damage', 'usually', 'by', 'controlling', 'the', 'underlying', 'cause', 'chronic', 'kidney', 'disease', 'can', 'progress', 'to', 'endstage', 'kidney', 'failure', 'which', 'is', 'fatal', 'without', 'artificial', 'filtering', 'dialysis', 'or', 'a', 'kidney', 'transplant', 'chronic', 'kidney', 'disease', 'care', 'at', 'mayo', 'clinic', 'how', 'kidneys', 'work', 'symptoms', 'signs', 'and', 'symptoms', 'of', 'chronic', 'kidney', 'disease', 'develop', 'over', 'time', 'if', 'kidney', 'damage', 'progresses', 'slowly', 'signs', 'and', 'symptoms', 'of', 'kidney', 'disease', 'may', 'include', 'nausea', 'vomiting', 'loss', 'of', 'appetite', 'fatigue', 'and', 'weakness', 'sleep', 'problems', 'changes', 'in', 'how', 'much', 'you', 'urinate', 'decreased', 'mental', 'sharpness', 'muscle', 'twitches', 'and', 'cramps', 'swelling', 'of', 'feet', 'and', 'ankles', 'persistent', 'itching', 'chest', 'pain', 'if', 'fluid', 'builds', 'up', 'around', 'the', 'lining', 'of', 'the', 'heart', 'shortness', 'of', 'breath', 'if', 'fluid', 'builds', 'up', 'in', 'the', 'lungs', 'high', 'blood', 'pressure', 'hypertension', 'thats', 'difficult', 'to', 'control', 'signs', 'and', 'symptoms', 'of', 'kidney', 'disease', 'are', 'often', 'nonspecific', 'meaning', 'they', 'can', 'also', 'be', 'caused', 'by', 'other', 'illnesses', 'because', 'your', 'kidneys', 'are', 'highly', 'adaptable', 'and', 'able', 'to', 'compensate', 'for', 'lost', 'function', 'signs', 'and', 'symptoms', 'may', 'not', 'appear', 'until', 'irreversible', 'damage', 'has', 'occurred', 'when', 'to', 'see', 'a', 'doctor', 'make', 'an', 'appointment', 'with', 'your', 'doctor', 'if', 'you', 'have', 'any', 'signs', 'or', 'symptoms', 'of', 'kidney', 'disease', 'if', 'you', 'have', 'a', 'medical', 'condition', 'that', 'increases', 'your', 'risk', 'of', 'kidney', 'disease', 'your', 'doctor', 'is', 'likely', 'to', 'monitor', 'your', 'blood', 'pressure', 'and', 'kidney', 'function', 'with', 'urine', 'and', 'blood', 'tests', 'during', 'regular', 'office', 'visits', 'ask', 'your', 'doctor', 'whether', 'these', 'tests', 'are', 'necessary', 'for', 'you', 'causes', 'normal', 'kidney', 'vs', 'diseased', 'kidney', 'open', 'popup', 'dialog', 'box', 'close', 'normal', 'kidney', 'vs', 'diseased', 'kidney', 'normal', 'kidney', 'vs', 'diseased', 'kidney', 'a', 'normal', 'kidney', 'has', 'about', '1', 'million', 'filtering', 'units', 'each', 'unit', 'called', 'a', 'glomerulus', 'connects', 'to', 'a', 'tubule', 'which', 'collects', 'urine', 'conditions', 'such', 'as', 'high', 'blood', 'pressure', 'and', 'diabetes', 'take', 'a', 'toll', 'on', 'kidney', 'function', 'by', 'damaging', 'these', 'filtering', 'units', 'and', 'collecting', 'tubules', 'and', 'causing', 'scarring', 'polycystic', 'kidney', 'open', 'popup', 'dialog', 'box', 'close', 'polycystic', 'kidney', 'polycystic', 'kidney', 'a', 'healthy', 'kidney', 'left', 'eliminates', 'waste', 'from', 'the', 'blood', 'and', 'maintains', 'the', 'bodys', 'normal', 'chemical', 'balance', 'fluidfilled', 'sacs', 'right', 'called', 'cysts', 'characterize', 'polycystic', 'kidney', 'disease', 'chronic', 'kidney', 'disease', 'occurs', 'when', 'a', 'disease', 'or', 'condition', 'impairs', 'kidney', 'function', 'causing', 'kidney', 'damage', 'to', 'worsen', 'over', 'several', 'months', 'or', 'years', 'diseases', 'and', 'conditions', 'that', 'cause', 'chronic', 'kidney', 'disease', 'include', 'type', '1', 'or', 'type', '2', 'diabetes', 'high', 'blood', 'pressure', 'glomerulonephritis', 'gloemerulownuhfrytis', 'an', 'inflammation', 'of', 'the', 'kidneys', 'filtering', 'units', 'glomeruli', 'interstitial', 'nephritis', 'inturstishul', 'nuhfrytis', 'an', 'inflammation', 'of', 'the', 'kidneys', 'tubules', 'and', 'surrounding', 'structures', 'polycystic', 'kidney', 'disease', 'prolonged', 'obstruction', 'of', 'the', 'urinary', 'tract', 'from', 'conditions', 'such', 'as', 'enlarged', 'prostate', 'kidney', 'stones', 'and', 'some', 'cancers', 'vesicoureteral', 'vesihkoeyooreeturul', 'reflux', 'a', 'condition', 'that', 'causes', 'urine', 'to', 'back', 'up', 'into', 'your', 'kidneys', 'recurrent', 'kidney', 'infection', 'also', 'called', 'pyelonephritis', 'pieuhlownuhfrytis', 'risk', 'factors', 'factors', 'that', 'may', 'increase', 'your', 'risk', 'of', 'chronic', 'kidney', 'disease', 'include', 'diabetes', 'high', 'blood', 'pressure', 'heart', 'and', 'blood', 'vessel', 'cardiovascular', 'disease', 'smoking', 'obesity', 'being', 'africanamerican', 'native', 'american', 'or', 'asianamerican', 'family', 'history', 'of', 'kidney', 'disease', 'abnormal', 'kidney', 'structure', 'older', 'age', 'complications', 'chronic', 'kidney', 'disease', 'can', 'affect', 'almost', 'every', 'part', 'of', 'your', 'body', 'potential', 'complications', 'may', 'include', 'fluid', 'retention', 'which', 'could', 'lead', 'to', 'swelling', 'in', 'your', 'arms', 'and', 'legs', 'high', 'blood', 'pressure', 'or', 'fluid', 'in', 'your', 'lungs', 'pulmonary', 'edema', 'a', 'sudden', 'rise', 'in', 'potassium', 'levels', 'in', 'your', 'blood', 'hyperkalemia', 'which', 'could', 'impair', 'your', 'hearts', 'ability', 'to', 'function', 'and', 'may', 'be', 'lifethreatening', 'heart', 'and', 'blood', 'vessel', 'cardiovascular', 'disease', 'weak', 'bones', 'and', 'an', 'increased', 'risk', 'of', 'bone', 'fractures', 'anemia', 'decreased', 'sex', 'drive', 'erectile', 'dysfunction', 'or', 'reduced', 'fertility', 'damage', 'to', 'your', 'central', 'nervous', 'system', 'which', 'can', 'cause', 'difficulty', 'concentrating', 'personality', 'changes', 'or', 'seizures', 'decreased', 'immune', 'response', 'which', 'makes', 'you', 'more', 'vulnerable', 'to', 'infection', 'pericarditis', 'an', 'inflammation', 'of', 'the', 'saclike', 'membrane', 'that', 'envelops', 'your', 'heart', 'pericardium', 'pregnancy', 'complications', 'that', 'carry', 'risks', 'for', 'the', 'mother', 'and', 'the', 'developing', 'fetus', 'irreversible', 'damage', 'to', 'your', 'kidneys', 'endstage', 'kidney', 'disease', 'eventually', 'requiring', 'either', 'dialysis', 'or', 'a', 'kidney', 'transplant', 'for', 'survival', 'prevention', 'to', 'reduce', 'your', 'risk', 'of', 'developing', 'kidney', 'disease']\n"
     ]
    }
   ],
   "source": [
    "def LemNormalize(text):\n",
    "    return nltk.word_tokenize(text.lower().translate(remove_punct_dict))\n",
    "print(LemNormalize(text))"
   ]
  },
  {
   "cell_type": "code",
   "execution_count": 8,
   "metadata": {},
   "outputs": [],
   "source": [
    "GREETING_INPUTS = [\"hi\", \"hello\", \"hola\", \"greetings\", \"wassup\", \"hey\"]\n",
    "GREETING_RESPONSES = [\"howdy\", \"hi\", \"hey\", \"what's good\", \"hey there\"]\n",
    "def greeting(sentence):\n",
    "    for word in sentence.split():\n",
    "        if word.lower() in GREETING_INPUTS:\n",
    "            return random.choice(GREETING_RESPONSES)\n",
    "    "
   ]
  },
  {
   "cell_type": "code",
   "execution_count": 9,
   "metadata": {},
   "outputs": [],
   "source": [
    "def response(user_response):\n",
    "    \n",
    "    user_response = user_response.lower()\n",
    "    robo_response = ''\n",
    "    sent_tokens.append(user_response)\n",
    "    TfidfVec = TfidfVectorizer(tokenizer = LemNormalize, stop_words = 'english')\n",
    "    tfidf = TfidfVec.fit_transform(sent_tokens)\n",
    "    vals = cosine_similarity(tfidf[-1], tfidf)\n",
    "    idx = vals.argsort()[0][-2]\n",
    "    flat = vals.flatten()\n",
    "    flat.sort()\n",
    "    score = flat[-2] \n",
    "    if(score == 0):\n",
    "        robo_response = robo_response+\"I apologize, I don't understand\"\n",
    "    else:\n",
    "        robo_response = robo_response+sent_tokens[idx]\n",
    "    sent_tokens.remove(user_response)    \n",
    "    return robo_response\n",
    "\n",
    "\n",
    "  "
   ]
  },
  {
   "cell_type": "code",
   "execution_count": 10,
   "metadata": {},
   "outputs": [
    {
     "name": "stdout",
     "output_type": "stream",
     "text": [
      "DocBot: I am Smart Chat-Bot or Chat-Bot for short. I will answer your queries. If you want to exit, type Bye!\n",
      "hi\n",
      "Chat-Bot: hi\n",
      "what is chronic kidney disease?\n",
      "Chat-Bot: Overview\n",
      "\n",
      "Chronic kidney disease, also called chronic kidney failure, describes the gradual loss of kidney function.\n",
      "thanks\n",
      "Chat-Bot: You are Welcome !\n"
     ]
    }
   ],
   "source": [
    "flag = True\n",
    "print(\"DocBot: I am Smart Chat-Bot or Chat-Bot for short. I will answer your queries. If you want to exit, type Bye!\")\n",
    "while(flag == True):\n",
    "    user_response = input()\n",
    "    user_response = user_response.lower()\n",
    "    if(user_response != 'bye'):\n",
    "        if(user_response == 'thanks' or user_response == 'thank you'):\n",
    "            flag = False\n",
    "            print(\"Chat-Bot: You are Welcome !\")\n",
    "        else:\n",
    "            if(greeting(user_response) != None):\n",
    "                print(\"Chat-Bot: \"+greeting(user_response))\n",
    "            else:\n",
    "                print(\"Chat-Bot: \"+response(user_response))\n",
    "    else:\n",
    "        flag = False\n",
    "        print(\"Chat-Bot: Chat with you later !\")\n",
    "    "
   ]
  },
  {
   "cell_type": "code",
   "execution_count": 11,
   "metadata": {},
   "outputs": [
    {
     "name": "stdout",
     "output_type": "stream",
     "text": [
      "Instrument to measure electric current\n",
      "\n",
      "An early D'Arsonval galvanometer showing magnet and rotating coil\n",
      "\n",
      "A galvanometer is an electromechanical instrument used for detecting and indicating an electric current. A galvanometer works as an actuator, by producing a rotary deflection (of a \"pointer\"), in response to electric current flowing through a coil in a constant magnetic field. Early galvanometers were not calibrated, but their later developments were used as measuring instruments, called ammeters, to measure the current flowing through an electric circuit.\n",
      "\n",
      "Galvanometers developed from the observation that the needle of a magnetic compass is deflected near a wire that has electric current flowing through it, first described by Hans Christian Ørsted in 1820. They were the first instruments used to detect and measure small amounts of electric currents. André-Marie Ampère, who gave mathematical expression to Ørsted's discovery and named the instrument after[1] the Italian electricity researcher Luigi Galvani, who in 1791 discovered the principle of the frog galvanoscope – that electric current would make the legs of a dead frog jerk.\n",
      "\n",
      "Sensitive galvanometers have been essential for the development of science and technology in many fields. For example, in the 1800s they enabled long range communication through submarine cables, such as the earliest transatlantic telegraph cables, and were essential to discovering the electrical activity of the heart and brain, by their fine measurements of current.\n",
      "\n",
      "Galvanometers also had widespread use as the visualising part in other kinds of analog meters, for example in light meters, VU meters, etc., where they were used to measure and display the output of other sensors. Today the main type of galvanometer mechanism, still in use, is the moving coil, D'Arsonval/Weston type.\n",
      "\n",
      "Operation [ edit ]\n",
      "\n",
      "+ through the coil (the orange part) to −, a magnetic field is generated in the coil. This field is counteracted by the permanent magnet and forces the coil to twist, moving the pointer, in relation to the field's strength caused by the flow of current. Diagram of D'Arsonval/Weston type galvanometer. As the current flows fromthrough the coil (the orange part) to, a magnetic field is generated in the coil. This field is counteracted by the permanent magnet and forces the coil to twist, moving the pointer, in relation to the field's strength caused by the flow of current.\n",
      "\n",
      "Modern galvanometers, of the D'Arsonval/Weston type, are constructed with a small pivoting coil of wire, called a spindle, in the field of a permanent magnet. The coil is attached to a thin pointer that traverses a calibrated scale. A tiny torsion spring pulls the coil and pointer to the zero position.\n",
      "\n",
      "When a direct current (DC) flows through the coil, the coil generates a magnetic field. This field acts against the permanent magnet. The coil twists, pushing against the spring, and moves the pointer. The hand points at a scale indicating the electric current. Careful design of the pole pieces ensures that the magnetic field is uniform, so that the angular deflection of the pointer is proportional to the current. A useful meter generally contains provision for damping the mechanical resonance of the moving coil and pointer, so that the pointer settles quickly to its position without oscillation.\n",
      "\n",
      "The basic sensitivity of a meter might be, for instance, 100 microamperes full scale (with a voltage drop of, say, 50 millivolts at full current). Such meters are often calibrated to read some other quantity that can be converted to a current of that magnitude. The use of current dividers, often called shunts, allows a meter to be calibrated to measure larger currents. A meter can be calibrated as a DC voltmeter if the resistance of the coil is known by calculating the voltage required to generate a full scale current. A meter can be configured to read other voltages by putting it in a voltage divider circuit. This is generally done by placing a resistor in series with the meter coil. A meter can be used to read resistance by placing it in series with a known voltage (a battery) and an adjustable resistor. In a preparatory step, the circuit is completed and the resistor adjusted to produce full scale deflection. When an unknown resistor is placed in series in the circuit the current will be less than full scale and an appropriately calibrated scale can display the value of the previously unknown resistor.\n",
      "\n",
      "These capabilities to translate different kinds of electric quantities, in to pointer movements, make the galvanometer ideal for turning output of other sensors that outputs electricity (in some form or another), into something that can be read by a human.\n",
      "\n",
      "Because the pointer of the meter is usually a small distance above the scale of the meter, parallax error can occur when the operator attempts to read the scale line that \"lines up\" with the pointer. To counter this, some meters include a mirror along the markings of the principal scale. The accuracy of the reading from a mirrored scale is improved by positioning one's head while reading the scale so that the pointer and the reflection of the pointer are aligned; at this point, the operator's eye must be directly above the pointer and any parallax error has been minimized.\n",
      "\n",
      "Uses [ edit ]\n",
      "\n",
      "Closed-loop galvanometer-driven laser scanning mirror\n",
      "\n",
      "Probably the largest use of galvanometers was of the D'Arsonval/Weston type used in analog meters in electronic equipment. Since the 1980s, galvanometer-type analog meter movements have been displaced by analog to digital converters (ADCs) for many uses. A digital panel meter (DPM) contains an analog to digital converter and numeric display. The advantages of a digital instrument are higher precision and accuracy, but factors such as power consumption or cost may still favour application of analog meter movements.\n",
      "\n",
      "Modern uses [ edit ]\n",
      "\n",
      "Most modern uses for the galvanometer mechanism are in positioning and control systems. Galvanometer mechanisms are divided into moving magnet and moving coil galvanometers; in addition, they are divided into closed-loop and open-loop - or resonant - types.\n",
      "\n",
      "Mirror galvanometer systems are used as beam positioning or beam steering elements in laser scanning systems. For example, for material processing with high-power lasers, closed loop mirror galvanometer mechanisms are used with servo control systems. These are typically high power galvanometers and the newest galvanometers designed for beam steering applications can have frequency responses over 10 kHz with appropriate servo technology. Closed-loop mirror galvanometers are also used in similar ways in stereolithography, laser sintering, laser engraving, laser beam welding, laser TVs, laser displays and in imaging applications such as retinal scanning with Optical Coherence Tomography (OCT). Almost all of these galvanometers are of the moving magnet type. The closed loop is obtained measuring the position of the rotating axis with an infrared emitter and 2 photodiodes. This feedback is an analog signal.\n",
      "\n",
      "Open loop, or resonant mirror galvanometers, are mainly used in some types of laser-based bar-code scanners, printing machines, imaging applications, military applications and space systems. Their non-lubricated bearings are especially of interest in applications that require functioning in a high vacuum.\n",
      "\n",
      "A galvanometer mechanism (center part), used in an automatic exposure unit of an 8 mm film camera , together with a photoresistor (seen in the hole on top of the leftpart).\n",
      "\n",
      "Moving coil type galvanometer mechanisms (called 'voice coils' by hard disk manufacturers) are used for controlling the head positioning servos in hard disk drives and CD/DVD players, in order to keep mass (and thus access times), as low as possible.\n",
      "\n",
      "Past uses [ edit ]\n",
      "\n",
      "A major early use for galvanometers was for finding faults in telecommunications cables. They were superseded in this application late in the 20th century by time-domain reflectometers.\n",
      "\n",
      "Galvanometer mechanisms were also used to get readings from photoresistors in the metering mechanisms of film cameras (as seen in the adjacent image).\n",
      "\n",
      "In analog strip chart recorders such as used in electrocardiographs, electroencephalographs and polygraphs, galvanometer mechanisms were used to position the pen. Strip chart recorders with galvanometer driven pens may have a full scale frequency response of 100 Hz and several centimeters of deflection.\n",
      "\n",
      "History [ edit ]\n",
      "\n",
      "Hans Oersted [ edit ]\n",
      "\n",
      "The deflection of a magnetic compass needle by current in a wire was first described by Hans Oersted in 1820. The phenomenon was studied both for its own sake and as a means of measuring electric current.\n",
      "\n",
      "Schweigger and Ampère [ edit ]\n",
      "\n",
      "The earliest galvanometer was reported by Johann Schweigger at the University of Halle on 16 September 1820. André-Marie Ampère also contributed to its development. Early designs increased the effect of the magnetic field generated by the current by using multiple turns of wire. The instruments were at first called \"multipliers\" due to this common design feature.[2] The term \"galvanometer,\" in common use by 1836, was derived from the surname of Italian electricity researcher Luigi Galvani, who in 1791 discovered that electric current would make a dead frog's leg jerk.\n",
      "\n",
      "Poggendorff and Thomson [ edit ]\n",
      "\n",
      "Thomson mirror galvanometer, patented in 1858.\n",
      "\n",
      "Originally, the instruments relied on the Earth's magnetic field to provide the restoring force for the compass needle. These were called \"tangent\" galvanometers and had to be oriented before use. Later instruments of the \"astatic\" type used opposing magnets to become independent of the Earth's field and would operate in any orientation.\n",
      "\n",
      "Mirror galvanometer [ edit ]\n",
      "\n",
      "An early mirror galvanometer was invented in 1826 by Johann Christian Poggendorff.[citation needed] The most sensitive form of astatic galvanometer, the Thomson galvanometer, for which Thomson coined the term mirror galvanometer, was patented in 1858 by William Thomson (Lord Kelvin). Thomson's mirror galvanometer was an improvement of a design invented by Hermann von Helmholtz in 1849.[3] Thomson's design was able to detect very rapid current changes by using small magnets attached to a lightweight mirror, suspended by a thread, instead of a compass needle. The deflection of a light beam on the mirror greatly magnified the deflection induced by small currents. Alternatively, the deflection of the suspended magnets could be observed directly through a microscope.\n",
      "\n",
      "Georg Ohm [ edit ]\n",
      "\n",
      "The ability to measure quantitatively voltage and current allowed Georg Ohm, in 1827, to formulate Ohm's Law – that the voltage across a conductor is directly proportional to the current through it.\n",
      "\n",
      "D'Arsonval and Deprez [ edit ]\n",
      "\n",
      "The early moving-magnet form of galvanometer had the disadvantage that it was affected by any magnets or iron masses near it, and its deflection was not linearly proportional to the current. In 1882 Jacques-Arsène d'Arsonval and Marcel Deprez developed a form with a stationary permanent magnet and a moving coil of wire, suspended by fine wires which provided both an electrical connection to the coil and the restoring torque to return to the zero position. An iron tube between the magnet's pole pieces defined a circular gap through which the coil rotated. This gap produced a consistent, radial magnetic field across the coil, giving a linear response throughout the instrument's range. A mirror attached to the coil deflected a beam of light to indicate the coil position. The concentrated magnetic field and delicate suspension made these instruments sensitive; d'Arsonval's initial instrument could detect ten microamperes.[4]\n",
      "\n",
      "Edward Weston [ edit ]\n",
      "\n",
      "D'Arsonval/Weston galvanometer (ca. 1900). Part of the magnet's left pole piece is broken out to show the coil.\n",
      "\n",
      "Weston galvanometer in portable case\n",
      "\n",
      "Edward Weston extensively improved the design. He replaced the fine wire suspension with a pivot, and provided restoring torque and electrical connections through spiral springs rather like those of a wristwatch balance wheel hairspring. He developed a method of stabilizing the magnetic field of the permanent magnet, so the instrument would have consistent accuracy over time. He replaced the light beam and mirror with a knife-edge pointer that could be read directly. A mirror under the pointer, in the same plane as the scale, eliminated parallax observation error. To maintain the field strength, Weston's design used a very narrow circumferential slot through which the coil moved, with a minimal air-gap. This improved linearity of pointer deflection with respect to coil current. Finally, the coil was wound on a light-weight form made of conductive metal, which acted as a damper. By 1888, Edward Weston had patented and brought out a commercial form of this instrument, which became a standard electrical equipment component. It was known as a \"portable\" instrument because it was affected very little by mounting position or by transporting it from place to place. This design is almost universally used in moving-coil meters today.\n",
      "\n",
      "Initially laboratory instruments relying on the Earth's own magnetic field to provide restoring force for the pointer, galvanometers were developed into compact, rugged, sensitive portable instruments essential to the development of electro-technology.\n",
      "\n",
      "Taut-band movement [ edit ]\n",
      "\n",
      "The taut-band movement is a modern development of the D'Arsonval-Weston movement. The jewel pivots and hairsprings are replaced by tiny strips of metal under tension. Such a meter is more rugged for field use.[5]\n",
      "\n",
      "Types [ edit ]\n",
      "\n",
      "Some galvanometers use a solid pointer on a scale to show measurements; other very sensitive types use a miniature mirror and a beam of light to provide mechanical amplification of low-level signals.\n",
      "\n",
      "Tangent galvanometer [ edit ]\n",
      "\n",
      "A tangent galvanometer is an early measuring instrument used for the measurement of electric current. It works by using a compass needle to compare a magnetic field generated by the unknown current to the magnetic field of the Earth. It gets its name from its operating principle, the tangent law of magnetism, which states that the tangent of the angle a compass needle makes is proportional to the ratio of the strengths of the two perpendicular magnetic fields. It was first described by Johan Jacob Nervander in 1834 (see J.J. Nervander, “Mémoire sur un Galvanomètre à châssis cylindrique par lequel on obtient immédiatement et sans calcul la mesure de l’intensité du courant électrique qui produit la déviation de l’aiguille aimantée,” Annales de Chimie et de Physique (Paris), Tome 55, 156–184, 1834. and J. Venermo and A. Sihvola, \"The tangent galvanometer of Johan Jacob Nervander,\" IEEE Instrumentation & Measurement Magazine, vol. 11, no. 3, pp. 16-23, June 2008.) and in 1837 by Claude Pouillet.[6]\n",
      "\n",
      "A tangent galvanometer consists of a coil of insulated copper wire wound on a circular non-magnetic frame. The frame is mounted vertically on a horizontal base provided with levelling screws. The coil can be rotated on a vertical axis passing through its centre. A compass box is mounted horizontally at the centre of a circular scale. It consists of a tiny, powerful magnetic needle pivoted at the centre of the coil. The magnetic needle is free to rotate in the horizontal plane. The circular scale is divided into four quadrants. Each quadrant is graduated from 0° to 90°. A long thin aluminium pointer is attached to the needle at its centre and at right angle to it. To avoid errors due to parallax, a plane mirror is mounted below the compass needle.\n",
      "\n",
      "In operation, the instrument is first rotated until the magnetic field of the Earth, indicated by the compass needle, is parallel with the plane of the coil. Then the unknown current is applied to the coil. This creates a second magnetic field on the axis of the coil, perpendicular to the Earth's magnetic field. The compass needle responds to the vector sum of the two fields, and deflects to an angle equal to the tangent of the ratio of the two fields. From the angle read from the compass's scale, the current could be found from a table.[7] The current supply wires have to be wound in a small helix, like a pig's tail, otherwise the field due to the wire will affect the compass needle and an incorrect reading will be obtained.\n",
      "\n",
      "Theory [ edit ]\n",
      "\n",
      "The galvanometer is oriented so that the plane of the coil is vertical and aligned along parallel to the horizontal component B H of the Earth's magnetic field (i.e. parallel to the local \"magnetic meridian\"). When an electric current flows through the galvanometer coil, a second magnetic field B is created. At the center of the coil, where the compass needle is located, the coil's field is perpendicular to the plane of the coil. The magnitude of the coil's field is:\n",
      "\n",
      "B = μ 0 n I 2 r {\\displaystyle B={\\mu _{0}nI \\over 2r}\\,}\n",
      "\n",
      "where I is the current in amperes, n is the number of turns of the coil and r is the radius of the coil. These two perpendicular magnetic fields add vectorially, and the compass needle points along the direction of their resultant B H +B. The current in the coil causes the compass needle to rotate by an angle θ:\n",
      "\n",
      "θ = tan − 1 ⁡ B B H {\\displaystyle \\theta =\\tan ^{-1}{\\frac {B}{B_{H}}}\\,}\n",
      "\n",
      "From tangent law, B = B H tan θ, i.e.\n",
      "\n",
      "μ 0 n I 2 r = B H tan ⁡ θ {\\displaystyle {\\mu _{0}nI \\over 2r}=B_{H}\\tan \\theta \\,}\n",
      "\n",
      "or\n",
      "\n",
      "I = ( 2 r B H μ 0 n ) tan ⁡ θ {\\displaystyle I=\\left({\\frac {2rB_{H}}{\\mu _{0}n}}\\right)\\tan \\theta \\,}\n",
      "\n",
      "or I = K tan θ, where K is called the Reduction Factor of the tangent galvanometer.\n",
      "\n",
      "One problem with the tangent galvanometer is that its resolution degrades at both high currents and low currents. The maximum resolution is obtained when the value of θ is 45°. When the value of θ is close to 0° or 90°, a large percentage change in the current will only move the needle a few degrees.[8]\n",
      "\n",
      "Geomagnetic field measurement [ edit ]\n",
      "\n",
      "A tangent galvanometer can also be used to measure the magnitude of the horizontal component of the geomagnetic field. When used in this way, a low-voltage power source, such as a battery, is connected in series with a rheostat, the galvanometer, and an ammeter. The galvanometer is first aligned so that the coil is parallel to the geomagnetic field, whose direction is indicated by the compass when there is no current through the coils. The battery is then connected and the rheostat is adjusted until the compass needle deflects 45 degrees from the geomagnetic field, indicating that the magnitude of the magnetic field at the center of the coil is the same as that of the horizontal component of the geomagnetic field. This field strength can be calculated from the current as measured by the ammeter, the number of turns of the coil, and the radius of the coils.\n",
      "\n",
      "Astatic galvanometer [ edit ]\n",
      "\n",
      "Unlike the tangent galvanometer, the astatic galvanometer does not use the Earth's magnetic field for measurement, so it does not need to be oriented with respect to the Earth's field, making it easier to use. Developed by Leopoldo Nobili in 1825,[9] it consists of two magnetized needles parallel to each other but with the magnetic poles reversed. These needles are suspended by a single silk thread.[10] The lower needle is inside a vertical current sensing coil of wire and is deflected by the magnetic field created by the passing current, as in the tangent galvanometer above. The purpose of the second needle is to cancel the dipole moment of the first needle, so the suspended armature has no net magnetic dipole moment, and thus is not affected by the earth's magnetic field. The needle's rotation is opposed by the torsional elasticity of the suspension thread, which is proportional to the angle.\n",
      "\n",
      "Mirror galvanometer [ edit ]\n",
      "\n",
      "To achieve higher sensitivity to detect extremely small currents, the mirror galvanometer substitutes a lightweight mirror for the pointer. It consists of horizontal magnets suspended from a fine fiber, inside a vertical coil of wire, with a mirror attached to the magnets. A beam of light reflected from the mirror falls on a graduated scale across the room, acting as a long mass-less pointer. The mirror galvanometer was used as the receiver in the first trans-Atlantic submarine telegraph cables in the 1850s, to detect the extremely faint pulses of current after their thousand-mile journey under the Atlantic. In a device called an oscillograph, the moving beam of light is used, to produce graphs of current versus time, by recording measurements on photographic film. The string galvanometer is a type of mirror galvanometer so sensitive that it was used to make the first electrocardiogram of the electrical activity of the human heart.\n",
      "\n",
      "Ballistic galvanometer [ edit ]\n",
      "\n",
      "A ballistic galvanometer is a type of sensitive galvanometer for measuring the quantity of charge discharged through it. In reality it is an integrator, unlike a current-measuring galvanometer, the moving part has a large moment of inertia that gives it a long oscillation period. It can be either of the moving coil or moving magnet type; commonly it is a mirror galvanometer.\n",
      "\n",
      "See also [ edit ]\n"
     ]
    }
   ],
   "source": [
    "article1 = Article('https://en.wikipedia.org/wiki/Galvanometer')\n",
    "article1.download()\n",
    "article1.parse()\n",
    "article1.nlp()\n",
    "corpus = article1.text\n",
    "\n",
    "print(corpus)"
   ]
  },
  {
   "cell_type": "code",
   "execution_count": 12,
   "metadata": {},
   "outputs": [
    {
     "name": "stdout",
     "output_type": "stream",
     "text": [
      "[\"Instrument to measure electric current\\n\\nAn early D'Arsonval galvanometer showing magnet and rotating coil\\n\\nA galvanometer is an electromechanical instrument used for detecting and indicating an electric current.\", 'A galvanometer works as an actuator, by producing a rotary deflection (of a \"pointer\"), in response to electric current flowing through a coil in a constant magnetic field.', 'Early galvanometers were not calibrated, but their later developments were used as measuring instruments, called ammeters, to measure the current flowing through an electric circuit.', 'Galvanometers developed from the observation that the needle of a magnetic compass is deflected near a wire that has electric current flowing through it, first described by Hans Christian Ørsted in 1820.', 'They were the first instruments used to detect and measure small amounts of electric currents.', \"André-Marie Ampère, who gave mathematical expression to Ørsted's discovery and named the instrument after[1] the Italian electricity researcher Luigi Galvani, who in 1791 discovered the principle of the frog galvanoscope – that electric current would make the legs of a dead frog jerk.\", 'Sensitive galvanometers have been essential for the development of science and technology in many fields.', 'For example, in the 1800s they enabled long range communication through submarine cables, such as the earliest transatlantic telegraph cables, and were essential to discovering the electrical activity of the heart and brain, by their fine measurements of current.', 'Galvanometers also had widespread use as the visualising part in other kinds of analog meters, for example in light meters, VU meters, etc., where they were used to measure and display the output of other sensors.', \"Today the main type of galvanometer mechanism, still in use, is the moving coil, D'Arsonval/Weston type.\", 'Operation [ edit ]\\n\\n+ through the coil (the orange part) to −, a magnetic field is generated in the coil.', \"This field is counteracted by the permanent magnet and forces the coil to twist, moving the pointer, in relation to the field's strength caused by the flow of current.\", \"Diagram of D'Arsonval/Weston type galvanometer.\", 'As the current flows fromthrough the coil (the orange part) to, a magnetic field is generated in the coil.', \"This field is counteracted by the permanent magnet and forces the coil to twist, moving the pointer, in relation to the field's strength caused by the flow of current.\", \"Modern galvanometers, of the D'Arsonval/Weston type, are constructed with a small pivoting coil of wire, called a spindle, in the field of a permanent magnet.\", 'The coil is attached to a thin pointer that traverses a calibrated scale.', 'A tiny torsion spring pulls the coil and pointer to the zero position.', 'When a direct current (DC) flows through the coil, the coil generates a magnetic field.', 'This field acts against the permanent magnet.', 'The coil twists, pushing against the spring, and moves the pointer.', 'The hand points at a scale indicating the electric current.', 'Careful design of the pole pieces ensures that the magnetic field is uniform, so that the angular deflection of the pointer is proportional to the current.', 'A useful meter generally contains provision for damping the mechanical resonance of the moving coil and pointer, so that the pointer settles quickly to its position without oscillation.', 'The basic sensitivity of a meter might be, for instance, 100 microamperes full scale (with a voltage drop of, say, 50 millivolts at full current).', 'Such meters are often calibrated to read some other quantity that can be converted to a current of that magnitude.', 'The use of current dividers, often called shunts, allows a meter to be calibrated to measure larger currents.', 'A meter can be calibrated as a DC voltmeter if the resistance of the coil is known by calculating the voltage required to generate a full scale current.', 'A meter can be configured to read other voltages by putting it in a voltage divider circuit.', 'This is generally done by placing a resistor in series with the meter coil.', 'A meter can be used to read resistance by placing it in series with a known voltage (a battery) and an adjustable resistor.', 'In a preparatory step, the circuit is completed and the resistor adjusted to produce full scale deflection.', 'When an unknown resistor is placed in series in the circuit the current will be less than full scale and an appropriately calibrated scale can display the value of the previously unknown resistor.', 'These capabilities to translate different kinds of electric quantities, in to pointer movements, make the galvanometer ideal for turning output of other sensors that outputs electricity (in some form or another), into something that can be read by a human.', 'Because the pointer of the meter is usually a small distance above the scale of the meter, parallax error can occur when the operator attempts to read the scale line that \"lines up\" with the pointer.', 'To counter this, some meters include a mirror along the markings of the principal scale.', \"The accuracy of the reading from a mirrored scale is improved by positioning one's head while reading the scale so that the pointer and the reflection of the pointer are aligned; at this point, the operator's eye must be directly above the pointer and any parallax error has been minimized.\", \"Uses [ edit ]\\n\\nClosed-loop galvanometer-driven laser scanning mirror\\n\\nProbably the largest use of galvanometers was of the D'Arsonval/Weston type used in analog meters in electronic equipment.\", 'Since the 1980s, galvanometer-type analog meter movements have been displaced by analog to digital converters (ADCs) for many uses.', 'A digital panel meter (DPM) contains an analog to digital converter and numeric display.', 'The advantages of a digital instrument are higher precision and accuracy, but factors such as power consumption or cost may still favour application of analog meter movements.', 'Modern uses [ edit ]\\n\\nMost modern uses for the galvanometer mechanism are in positioning and control systems.', 'Galvanometer mechanisms are divided into moving magnet and moving coil galvanometers; in addition, they are divided into closed-loop and open-loop - or resonant - types.', 'Mirror galvanometer systems are used as beam positioning or beam steering elements in laser scanning systems.', 'For example, for material processing with high-power lasers, closed loop mirror galvanometer mechanisms are used with servo control systems.', 'These are typically high power galvanometers and the newest galvanometers designed for beam steering applications can have frequency responses over 10 kHz with appropriate servo technology.', 'Closed-loop mirror galvanometers are also used in similar ways in stereolithography, laser sintering, laser engraving, laser beam welding, laser TVs, laser displays and in imaging applications such as retinal scanning with Optical Coherence Tomography (OCT).', 'Almost all of these galvanometers are of the moving magnet type.', 'The closed loop is obtained measuring the position of the rotating axis with an infrared emitter and 2 photodiodes.', 'This feedback is an analog signal.', 'Open loop, or resonant mirror galvanometers, are mainly used in some types of laser-based bar-code scanners, printing machines, imaging applications, military applications and space systems.', 'Their non-lubricated bearings are especially of interest in applications that require functioning in a high vacuum.', 'A galvanometer mechanism (center part), used in an automatic exposure unit of an 8 mm film camera , together with a photoresistor (seen in the hole on top of the leftpart).', \"Moving coil type galvanometer mechanisms (called 'voice coils' by hard disk manufacturers) are used for controlling the head positioning servos in hard disk drives and CD/DVD players, in order to keep mass (and thus access times), as low as possible.\", 'Past uses [ edit ]\\n\\nA major early use for galvanometers was for finding faults in telecommunications cables.', 'They were superseded in this application late in the 20th century by time-domain reflectometers.', 'Galvanometer mechanisms were also used to get readings from photoresistors in the metering mechanisms of film cameras (as seen in the adjacent image).', 'In analog strip chart recorders such as used in electrocardiographs, electroencephalographs and polygraphs, galvanometer mechanisms were used to position the pen.', 'Strip chart recorders with galvanometer driven pens may have a full scale frequency response of 100 Hz and several centimeters of deflection.', 'History [ edit ]\\n\\nHans Oersted [ edit ]\\n\\nThe deflection of a magnetic compass needle by current in a wire was first described by Hans Oersted in 1820.', 'The phenomenon was studied both for its own sake and as a means of measuring electric current.', 'Schweigger and Ampère [ edit ]\\n\\nThe earliest galvanometer was reported by Johann Schweigger at the University of Halle on 16 September 1820.', 'André-Marie Ampère also contributed to its development.', 'Early designs increased the effect of the magnetic field generated by the current by using multiple turns of wire.', 'The instruments were at first called \"multipliers\" due to this common design feature.', '[2] The term \"galvanometer,\" in common use by 1836, was derived from the surname of Italian electricity researcher Luigi Galvani, who in 1791 discovered that electric current would make a dead frog\\'s leg jerk.', 'Poggendorff and Thomson [ edit ]\\n\\nThomson mirror galvanometer, patented in 1858.', \"Originally, the instruments relied on the Earth's magnetic field to provide the restoring force for the compass needle.\", 'These were called \"tangent\" galvanometers and had to be oriented before use.', 'Later instruments of the \"astatic\" type used opposing magnets to become independent of the Earth\\'s field and would operate in any orientation.', 'Mirror galvanometer [ edit ]\\n\\nAn early mirror galvanometer was invented in 1826 by Johann Christian Poggendorff.', '[citation needed] The most sensitive form of astatic galvanometer, the Thomson galvanometer, for which Thomson coined the term mirror galvanometer, was patented in 1858 by William Thomson (Lord Kelvin).', \"Thomson's mirror galvanometer was an improvement of a design invented by Hermann von Helmholtz in 1849.\", \"[3] Thomson's design was able to detect very rapid current changes by using small magnets attached to a lightweight mirror, suspended by a thread, instead of a compass needle.\", 'The deflection of a light beam on the mirror greatly magnified the deflection induced by small currents.', 'Alternatively, the deflection of the suspended magnets could be observed directly through a microscope.', \"Georg Ohm [ edit ]\\n\\nThe ability to measure quantitatively voltage and current allowed Georg Ohm, in 1827, to formulate Ohm's Law – that the voltage across a conductor is directly proportional to the current through it.\", \"D'Arsonval and Deprez [ edit ]\\n\\nThe early moving-magnet form of galvanometer had the disadvantage that it was affected by any magnets or iron masses near it, and its deflection was not linearly proportional to the current.\", \"In 1882 Jacques-Arsène d'Arsonval and Marcel Deprez developed a form with a stationary permanent magnet and a moving coil of wire, suspended by fine wires which provided both an electrical connection to the coil and the restoring torque to return to the zero position.\", \"An iron tube between the magnet's pole pieces defined a circular gap through which the coil rotated.\", \"This gap produced a consistent, radial magnetic field across the coil, giving a linear response throughout the instrument's range.\", 'A mirror attached to the coil deflected a beam of light to indicate the coil position.', \"The concentrated magnetic field and delicate suspension made these instruments sensitive; d'Arsonval's initial instrument could detect ten microamperes.\", \"[4]\\n\\nEdward Weston [ edit ]\\n\\nD'Arsonval/Weston galvanometer (ca.\", '1900).', \"Part of the magnet's left pole piece is broken out to show the coil.\", 'Weston galvanometer in portable case\\n\\nEdward Weston extensively improved the design.', 'He replaced the fine wire suspension with a pivot, and provided restoring torque and electrical connections through spiral springs rather like those of a wristwatch balance wheel hairspring.', 'He developed a method of stabilizing the magnetic field of the permanent magnet, so the instrument would have consistent accuracy over time.', 'He replaced the light beam and mirror with a knife-edge pointer that could be read directly.', 'A mirror under the pointer, in the same plane as the scale, eliminated parallax observation error.', \"To maintain the field strength, Weston's design used a very narrow circumferential slot through which the coil moved, with a minimal air-gap.\", 'This improved linearity of pointer deflection with respect to coil current.', 'Finally, the coil was wound on a light-weight form made of conductive metal, which acted as a damper.', 'By 1888, Edward Weston had patented and brought out a commercial form of this instrument, which became a standard electrical equipment component.', 'It was known as a \"portable\" instrument because it was affected very little by mounting position or by transporting it from place to place.', 'This design is almost universally used in moving-coil meters today.', \"Initially laboratory instruments relying on the Earth's own magnetic field to provide restoring force for the pointer, galvanometers were developed into compact, rugged, sensitive portable instruments essential to the development of electro-technology.\", \"Taut-band movement [ edit ]\\n\\nThe taut-band movement is a modern development of the D'Arsonval-Weston movement.\", 'The jewel pivots and hairsprings are replaced by tiny strips of metal under tension.', 'Such a meter is more rugged for field use.', '[5]\\n\\nTypes [ edit ]\\n\\nSome galvanometers use a solid pointer on a scale to show measurements; other very sensitive types use a miniature mirror and a beam of light to provide mechanical amplification of low-level signals.', 'Tangent galvanometer [ edit ]\\n\\nA tangent galvanometer is an early measuring instrument used for the measurement of electric current.', 'It works by using a compass needle to compare a magnetic field generated by the unknown current to the magnetic field of the Earth.', 'It gets its name from its operating principle, the tangent law of magnetism, which states that the tangent of the angle a compass needle makes is proportional to the ratio of the strengths of the two perpendicular magnetic fields.', 'It was first described by Johan Jacob Nervander in 1834 (see J.J. Nervander, “Mémoire sur un Galvanomètre à châssis cylindrique par lequel on obtient immédiatement et sans calcul la mesure de l’intensité du courant électrique qui produit la déviation de l’aiguille aimantée,” Annales de Chimie et de Physique (Paris), Tome 55, 156–184, 1834. and J. Venermo and A. Sihvola, \"The tangent galvanometer of Johan Jacob Nervander,\" IEEE Instrumentation & Measurement Magazine, vol.', '11, no.', '3, pp.', '16-23, June 2008.)', 'and in 1837 by Claude Pouillet.', '[6]\\n\\nA tangent galvanometer consists of a coil of insulated copper wire wound on a circular non-magnetic frame.', 'The frame is mounted vertically on a horizontal base provided with levelling screws.', 'The coil can be rotated on a vertical axis passing through its centre.', 'A compass box is mounted horizontally at the centre of a circular scale.', 'It consists of a tiny, powerful magnetic needle pivoted at the centre of the coil.', 'The magnetic needle is free to rotate in the horizontal plane.', 'The circular scale is divided into four quadrants.', 'Each quadrant is graduated from 0° to 90°.', 'A long thin aluminium pointer is attached to the needle at its centre and at right angle to it.', 'To avoid errors due to parallax, a plane mirror is mounted below the compass needle.', 'In operation, the instrument is first rotated until the magnetic field of the Earth, indicated by the compass needle, is parallel with the plane of the coil.', 'Then the unknown current is applied to the coil.', \"This creates a second magnetic field on the axis of the coil, perpendicular to the Earth's magnetic field.\", 'The compass needle responds to the vector sum of the two fields, and deflects to an angle equal to the tangent of the ratio of the two fields.', \"From the angle read from the compass's scale, the current could be found from a table.\", \"[7] The current supply wires have to be wound in a small helix, like a pig's tail, otherwise the field due to the wire will affect the compass needle and an incorrect reading will be obtained.\", \"Theory [ edit ]\\n\\nThe galvanometer is oriented so that the plane of the coil is vertical and aligned along parallel to the horizontal component B H of the Earth's magnetic field (i.e.\", 'parallel to the local \"magnetic meridian\").', 'When an electric current flows through the galvanometer coil, a second magnetic field B is created.', \"At the center of the coil, where the compass needle is located, the coil's field is perpendicular to the plane of the coil.\", \"The magnitude of the coil's field is:\\n\\nB = μ 0 n I 2 r {\\\\displaystyle B={\\\\mu _{0}nI \\\\over 2r}\\\\,}\\n\\nwhere I is the current in amperes, n is the number of turns of the coil and r is the radius of the coil.\", 'These two perpendicular magnetic fields add vectorially, and the compass needle points along the direction of their resultant B H +B.', 'The current in the coil causes the compass needle to rotate by an angle θ:\\n\\nθ = tan − 1 \\u2061 B B H {\\\\displaystyle \\\\theta =\\\\tan ^{-1}{\\\\frac {B}{B_{H}}}\\\\,}\\n\\nFrom tangent law, B = B H tan θ, i.e.', 'μ 0 n I 2 r = B H tan \\u2061 θ {\\\\displaystyle {\\\\mu _{0}nI \\\\over 2r}=B_{H}\\\\tan \\\\theta \\\\,}\\n\\nor\\n\\nI = ( 2 r B H μ 0 n ) tan \\u2061 θ {\\\\displaystyle I=\\\\left({\\\\frac {2rB_{H}}{\\\\mu _{0}n}}\\\\right)\\\\tan \\\\theta \\\\,}\\n\\nor I = K tan θ, where K is called the Reduction Factor of the tangent galvanometer.', 'One problem with the tangent galvanometer is that its resolution degrades at both high currents and low currents.', 'The maximum resolution is obtained when the value of θ is 45°.', 'When the value of θ is close to 0° or 90°, a large percentage change in the current will only move the needle a few degrees.', '[8]\\n\\nGeomagnetic field measurement [ edit ]\\n\\nA tangent galvanometer can also be used to measure the magnitude of the horizontal component of the geomagnetic field.', 'When used in this way, a low-voltage power source, such as a battery, is connected in series with a rheostat, the galvanometer, and an ammeter.', 'The galvanometer is first aligned so that the coil is parallel to the geomagnetic field, whose direction is indicated by the compass when there is no current through the coils.', 'The battery is then connected and the rheostat is adjusted until the compass needle deflects 45 degrees from the geomagnetic field, indicating that the magnitude of the magnetic field at the center of the coil is the same as that of the horizontal component of the geomagnetic field.', 'This field strength can be calculated from the current as measured by the ammeter, the number of turns of the coil, and the radius of the coils.', \"Astatic galvanometer [ edit ]\\n\\nUnlike the tangent galvanometer, the astatic galvanometer does not use the Earth's magnetic field for measurement, so it does not need to be oriented with respect to the Earth's field, making it easier to use.\", 'Developed by Leopoldo Nobili in 1825,[9] it consists of two magnetized needles parallel to each other but with the magnetic poles reversed.', 'These needles are suspended by a single silk thread.', '[10] The lower needle is inside a vertical current sensing coil of wire and is deflected by the magnetic field created by the passing current, as in the tangent galvanometer above.', \"The purpose of the second needle is to cancel the dipole moment of the first needle, so the suspended armature has no net magnetic dipole moment, and thus is not affected by the earth's magnetic field.\", \"The needle's rotation is opposed by the torsional elasticity of the suspension thread, which is proportional to the angle.\", 'Mirror galvanometer [ edit ]\\n\\nTo achieve higher sensitivity to detect extremely small currents, the mirror galvanometer substitutes a lightweight mirror for the pointer.', 'It consists of horizontal magnets suspended from a fine fiber, inside a vertical coil of wire, with a mirror attached to the magnets.', 'A beam of light reflected from the mirror falls on a graduated scale across the room, acting as a long mass-less pointer.', 'The mirror galvanometer was used as the receiver in the first trans-Atlantic submarine telegraph cables in the 1850s, to detect the extremely faint pulses of current after their thousand-mile journey under the Atlantic.', 'In a device called an oscillograph, the moving beam of light is used, to produce graphs of current versus time, by recording measurements on photographic film.', 'The string galvanometer is a type of mirror galvanometer so sensitive that it was used to make the first electrocardiogram of the electrical activity of the human heart.', 'Ballistic galvanometer [ edit ]\\n\\nA ballistic galvanometer is a type of sensitive galvanometer for measuring the quantity of charge discharged through it.', 'In reality it is an integrator, unlike a current-measuring galvanometer, the moving part has a large moment of inertia that gives it a long oscillation period.', 'It can be either of the moving coil or moving magnet type; commonly it is a mirror galvanometer.', 'See also [ edit ]']\n"
     ]
    }
   ],
   "source": [
    "text = corpus\n",
    "sent_tokens = nltk.sent_tokenize(text)\n",
    "print(sent_tokens)"
   ]
  },
  {
   "cell_type": "code",
   "execution_count": 13,
   "metadata": {},
   "outputs": [
    {
     "name": "stdout",
     "output_type": "stream",
     "text": [
      "['instrument', 'to', 'measure', 'electric', 'current', 'an', 'early', 'darsonval', 'galvanometer', 'showing', 'magnet', 'and', 'rotating', 'coil', 'a', 'galvanometer', 'is', 'an', 'electromechanical', 'instrument', 'used', 'for', 'detecting', 'and', 'indicating', 'an', 'electric', 'current', 'a', 'galvanometer', 'works', 'as', 'an', 'actuator', 'by', 'producing', 'a', 'rotary', 'deflection', 'of', 'a', 'pointer', 'in', 'response', 'to', 'electric', 'current', 'flowing', 'through', 'a', 'coil', 'in', 'a', 'constant', 'magnetic', 'field', 'early', 'galvanometers', 'were', 'not', 'calibrated', 'but', 'their', 'later', 'developments', 'were', 'used', 'as', 'measuring', 'instruments', 'called', 'ammeters', 'to', 'measure', 'the', 'current', 'flowing', 'through', 'an', 'electric', 'circuit', 'galvanometers', 'developed', 'from', 'the', 'observation', 'that', 'the', 'needle', 'of', 'a', 'magnetic', 'compass', 'is', 'deflected', 'near', 'a', 'wire', 'that', 'has', 'electric', 'current', 'flowing', 'through', 'it', 'first', 'described', 'by', 'hans', 'christian', 'ørsted', 'in', '1820', 'they', 'were', 'the', 'first', 'instruments', 'used', 'to', 'detect', 'and', 'measure', 'small', 'amounts', 'of', 'electric', 'currents', 'andrémarie', 'ampère', 'who', 'gave', 'mathematical', 'expression', 'to', 'ørsteds', 'discovery', 'and', 'named', 'the', 'instrument', 'after1', 'the', 'italian', 'electricity', 'researcher', 'luigi', 'galvani', 'who', 'in', '1791', 'discovered', 'the', 'principle', 'of', 'the', 'frog', 'galvanoscope', '–', 'that', 'electric', 'current', 'would', 'make', 'the', 'legs', 'of', 'a', 'dead', 'frog', 'jerk', 'sensitive', 'galvanometers', 'have', 'been', 'essential', 'for', 'the', 'development', 'of', 'science', 'and', 'technology', 'in', 'many', 'fields', 'for', 'example', 'in', 'the', '1800s', 'they', 'enabled', 'long', 'range', 'communication', 'through', 'submarine', 'cables', 'such', 'as', 'the', 'earliest', 'transatlantic', 'telegraph', 'cables', 'and', 'were', 'essential', 'to', 'discovering', 'the', 'electrical', 'activity', 'of', 'the', 'heart', 'and', 'brain', 'by', 'their', 'fine', 'measurements', 'of', 'current', 'galvanometers', 'also', 'had', 'widespread', 'use', 'as', 'the', 'visualising', 'part', 'in', 'other', 'kinds', 'of', 'analog', 'meters', 'for', 'example', 'in', 'light', 'meters', 'vu', 'meters', 'etc', 'where', 'they', 'were', 'used', 'to', 'measure', 'and', 'display', 'the', 'output', 'of', 'other', 'sensors', 'today', 'the', 'main', 'type', 'of', 'galvanometer', 'mechanism', 'still', 'in', 'use', 'is', 'the', 'moving', 'coil', 'darsonvalweston', 'type', 'operation', 'edit', 'through', 'the', 'coil', 'the', 'orange', 'part', 'to', '−', 'a', 'magnetic', 'field', 'is', 'generated', 'in', 'the', 'coil', 'this', 'field', 'is', 'counteracted', 'by', 'the', 'permanent', 'magnet', 'and', 'forces', 'the', 'coil', 'to', 'twist', 'moving', 'the', 'pointer', 'in', 'relation', 'to', 'the', 'fields', 'strength', 'caused', 'by', 'the', 'flow', 'of', 'current', 'diagram', 'of', 'darsonvalweston', 'type', 'galvanometer', 'as', 'the', 'current', 'flows', 'fromthrough', 'the', 'coil', 'the', 'orange', 'part', 'to', 'a', 'magnetic', 'field', 'is', 'generated', 'in', 'the', 'coil', 'this', 'field', 'is', 'counteracted', 'by', 'the', 'permanent', 'magnet', 'and', 'forces', 'the', 'coil', 'to', 'twist', 'moving', 'the', 'pointer', 'in', 'relation', 'to', 'the', 'fields', 'strength', 'caused', 'by', 'the', 'flow', 'of', 'current', 'modern', 'galvanometers', 'of', 'the', 'darsonvalweston', 'type', 'are', 'constructed', 'with', 'a', 'small', 'pivoting', 'coil', 'of', 'wire', 'called', 'a', 'spindle', 'in', 'the', 'field', 'of', 'a', 'permanent', 'magnet', 'the', 'coil', 'is', 'attached', 'to', 'a', 'thin', 'pointer', 'that', 'traverses', 'a', 'calibrated', 'scale', 'a', 'tiny', 'torsion', 'spring', 'pulls', 'the', 'coil', 'and', 'pointer', 'to', 'the', 'zero', 'position', 'when', 'a', 'direct', 'current', 'dc', 'flows', 'through', 'the', 'coil', 'the', 'coil', 'generates', 'a', 'magnetic', 'field', 'this', 'field', 'acts', 'against', 'the', 'permanent', 'magnet', 'the', 'coil', 'twists', 'pushing', 'against', 'the', 'spring', 'and', 'moves', 'the', 'pointer', 'the', 'hand', 'points', 'at', 'a', 'scale', 'indicating', 'the', 'electric', 'current', 'careful', 'design', 'of', 'the', 'pole', 'pieces', 'ensures', 'that', 'the', 'magnetic', 'field', 'is', 'uniform', 'so', 'that', 'the', 'angular', 'deflection', 'of', 'the', 'pointer', 'is', 'proportional', 'to', 'the', 'current', 'a', 'useful', 'meter', 'generally', 'contains', 'provision', 'for', 'damping', 'the', 'mechanical', 'resonance', 'of', 'the', 'moving', 'coil', 'and', 'pointer', 'so', 'that', 'the', 'pointer', 'settles', 'quickly', 'to', 'its', 'position', 'without', 'oscillation', 'the', 'basic', 'sensitivity', 'of', 'a', 'meter', 'might', 'be', 'for', 'instance', '100', 'microamperes', 'full', 'scale', 'with', 'a', 'voltage', 'drop', 'of', 'say', '50', 'millivolts', 'at', 'full', 'current', 'such', 'meters', 'are', 'often', 'calibrated', 'to', 'read', 'some', 'other', 'quantity', 'that', 'can', 'be', 'converted', 'to', 'a', 'current', 'of', 'that', 'magnitude', 'the', 'use', 'of', 'current', 'dividers', 'often', 'called', 'shunts', 'allows', 'a', 'meter', 'to', 'be', 'calibrated', 'to', 'measure', 'larger', 'currents', 'a', 'meter', 'can', 'be', 'calibrated', 'as', 'a', 'dc', 'voltmeter', 'if', 'the', 'resistance', 'of', 'the', 'coil', 'is', 'known', 'by', 'calculating', 'the', 'voltage', 'required', 'to', 'generate', 'a', 'full', 'scale', 'current', 'a', 'meter', 'can', 'be', 'configured', 'to', 'read', 'other', 'voltages', 'by', 'putting', 'it', 'in', 'a', 'voltage', 'divider', 'circuit', 'this', 'is', 'generally', 'done', 'by', 'placing', 'a', 'resistor', 'in', 'series', 'with', 'the', 'meter', 'coil', 'a', 'meter', 'can', 'be', 'used', 'to', 'read', 'resistance', 'by', 'placing', 'it', 'in', 'series', 'with', 'a', 'known', 'voltage', 'a', 'battery', 'and', 'an', 'adjustable', 'resistor', 'in', 'a', 'preparatory', 'step', 'the', 'circuit', 'is', 'completed', 'and', 'the', 'resistor', 'adjusted', 'to', 'produce', 'full', 'scale', 'deflection', 'when', 'an', 'unknown', 'resistor', 'is', 'placed', 'in', 'series', 'in', 'the', 'circuit', 'the', 'current', 'will', 'be', 'less', 'than', 'full', 'scale', 'and', 'an', 'appropriately', 'calibrated', 'scale', 'can', 'display', 'the', 'value', 'of', 'the', 'previously', 'unknown', 'resistor', 'these', 'capabilities', 'to', 'translate', 'different', 'kinds', 'of', 'electric', 'quantities', 'in', 'to', 'pointer', 'movements', 'make', 'the', 'galvanometer', 'ideal', 'for', 'turning', 'output', 'of', 'other', 'sensors', 'that', 'outputs', 'electricity', 'in', 'some', 'form', 'or', 'another', 'into', 'something', 'that', 'can', 'be', 'read', 'by', 'a', 'human', 'because', 'the', 'pointer', 'of', 'the', 'meter', 'is', 'usually', 'a', 'small', 'distance', 'above', 'the', 'scale', 'of', 'the', 'meter', 'parallax', 'error', 'can', 'occur', 'when', 'the', 'operator', 'attempts', 'to', 'read', 'the', 'scale', 'line', 'that', 'lines', 'up', 'with', 'the', 'pointer', 'to', 'counter', 'this', 'some', 'meters', 'include', 'a', 'mirror', 'along', 'the', 'markings', 'of', 'the', 'principal', 'scale', 'the', 'accuracy', 'of', 'the', 'reading', 'from', 'a', 'mirrored', 'scale', 'is', 'improved', 'by', 'positioning', 'ones', 'head', 'while', 'reading', 'the', 'scale', 'so', 'that', 'the', 'pointer', 'and', 'the', 'reflection', 'of', 'the', 'pointer', 'are', 'aligned', 'at', 'this', 'point', 'the', 'operators', 'eye', 'must', 'be', 'directly', 'above', 'the', 'pointer', 'and', 'any', 'parallax', 'error', 'has', 'been', 'minimized', 'uses', 'edit', 'closedloop', 'galvanometerdriven', 'laser', 'scanning', 'mirror', 'probably', 'the', 'largest', 'use', 'of', 'galvanometers', 'was', 'of', 'the', 'darsonvalweston', 'type', 'used', 'in', 'analog', 'meters', 'in', 'electronic', 'equipment', 'since', 'the', '1980s', 'galvanometertype', 'analog', 'meter', 'movements', 'have', 'been', 'displaced', 'by', 'analog', 'to', 'digital', 'converters', 'adcs', 'for', 'many', 'uses', 'a', 'digital', 'panel', 'meter', 'dpm', 'contains', 'an', 'analog', 'to', 'digital', 'converter', 'and', 'numeric', 'display', 'the', 'advantages', 'of', 'a', 'digital', 'instrument', 'are', 'higher', 'precision', 'and', 'accuracy', 'but', 'factors', 'such', 'as', 'power', 'consumption', 'or', 'cost', 'may', 'still', 'favour', 'application', 'of', 'analog', 'meter', 'movements', 'modern', 'uses', 'edit', 'most', 'modern', 'uses', 'for', 'the', 'galvanometer', 'mechanism', 'are', 'in', 'positioning', 'and', 'control', 'systems', 'galvanometer', 'mechanisms', 'are', 'divided', 'into', 'moving', 'magnet', 'and', 'moving', 'coil', 'galvanometers', 'in', 'addition', 'they', 'are', 'divided', 'into', 'closedloop', 'and', 'openloop', 'or', 'resonant', 'types', 'mirror', 'galvanometer', 'systems', 'are', 'used', 'as', 'beam', 'positioning', 'or', 'beam', 'steering', 'elements', 'in', 'laser', 'scanning', 'systems', 'for', 'example', 'for', 'material', 'processing', 'with', 'highpower', 'lasers', 'closed', 'loop', 'mirror', 'galvanometer', 'mechanisms', 'are', 'used', 'with', 'servo', 'control', 'systems', 'these', 'are', 'typically', 'high', 'power', 'galvanometers', 'and', 'the', 'newest', 'galvanometers', 'designed', 'for', 'beam', 'steering', 'applications', 'can', 'have', 'frequency', 'responses', 'over', '10', 'khz', 'with', 'appropriate', 'servo', 'technology', 'closedloop', 'mirror', 'galvanometers', 'are', 'also', 'used', 'in', 'similar', 'ways', 'in', 'stereolithography', 'laser', 'sintering', 'laser', 'engraving', 'laser', 'beam', 'welding', 'laser', 'tvs', 'laser', 'displays', 'and', 'in', 'imaging', 'applications', 'such', 'as', 'retinal', 'scanning', 'with', 'optical', 'coherence', 'tomography', 'oct', 'almost', 'all', 'of', 'these', 'galvanometers', 'are', 'of', 'the', 'moving', 'magnet', 'type', 'the', 'closed', 'loop', 'is', 'obtained', 'measuring', 'the', 'position', 'of', 'the', 'rotating', 'axis', 'with', 'an', 'infrared', 'emitter', 'and', '2', 'photodiodes', 'this', 'feedback', 'is', 'an', 'analog', 'signal', 'open', 'loop', 'or', 'resonant', 'mirror', 'galvanometers', 'are', 'mainly', 'used', 'in', 'some', 'types', 'of', 'laserbased', 'barcode', 'scanners', 'printing', 'machines', 'imaging', 'applications', 'military', 'applications', 'and', 'space', 'systems', 'their', 'nonlubricated', 'bearings', 'are', 'especially', 'of', 'interest', 'in', 'applications', 'that', 'require', 'functioning', 'in', 'a', 'high', 'vacuum', 'a', 'galvanometer', 'mechanism', 'center', 'part', 'used', 'in', 'an', 'automatic', 'exposure', 'unit', 'of', 'an', '8', 'mm', 'film', 'camera', 'together', 'with', 'a', 'photoresistor', 'seen', 'in', 'the', 'hole', 'on', 'top', 'of', 'the', 'leftpart', 'moving', 'coil', 'type', 'galvanometer', 'mechanisms', 'called', 'voice', 'coils', 'by', 'hard', 'disk', 'manufacturers', 'are', 'used', 'for', 'controlling', 'the', 'head', 'positioning', 'servos', 'in', 'hard', 'disk', 'drives', 'and', 'cddvd', 'players', 'in', 'order', 'to', 'keep', 'mass', 'and', 'thus', 'access', 'times', 'as', 'low', 'as', 'possible', 'past', 'uses', 'edit', 'a', 'major', 'early', 'use', 'for', 'galvanometers', 'was', 'for', 'finding', 'faults', 'in', 'telecommunications', 'cables', 'they', 'were', 'superseded', 'in', 'this', 'application', 'late', 'in', 'the', '20th', 'century', 'by', 'timedomain', 'reflectometers', 'galvanometer', 'mechanisms', 'were', 'also', 'used', 'to', 'get', 'readings', 'from', 'photoresistors', 'in', 'the', 'metering', 'mechanisms', 'of', 'film', 'cameras', 'as', 'seen', 'in', 'the', 'adjacent', 'image', 'in', 'analog', 'strip', 'chart', 'recorders', 'such', 'as', 'used', 'in', 'electrocardiographs', 'electroencephalographs', 'and', 'polygraphs', 'galvanometer', 'mechanisms', 'were', 'used', 'to', 'position', 'the', 'pen', 'strip', 'chart', 'recorders', 'with', 'galvanometer', 'driven', 'pens', 'may', 'have', 'a', 'full', 'scale', 'frequency', 'response', 'of', '100', 'hz', 'and', 'several', 'centimeters', 'of', 'deflection', 'history', 'edit', 'hans', 'oersted', 'edit', 'the', 'deflection', 'of', 'a', 'magnetic', 'compass', 'needle', 'by', 'current', 'in', 'a', 'wire', 'was', 'first', 'described', 'by', 'hans', 'oersted', 'in', '1820', 'the', 'phenomenon', 'was', 'studied', 'both', 'for', 'its', 'own', 'sake', 'and', 'as', 'a', 'means', 'of', 'measuring', 'electric', 'current', 'schweigger', 'and', 'ampère', 'edit', 'the', 'earliest', 'galvanometer', 'was', 'reported', 'by', 'johann', 'schweigger', 'at', 'the', 'university', 'of', 'halle', 'on', '16', 'september', '1820', 'andrémarie', 'ampère', 'also', 'contributed', 'to', 'its', 'development', 'early', 'designs', 'increased', 'the', 'effect', 'of', 'the', 'magnetic', 'field', 'generated', 'by', 'the', 'current', 'by', 'using', 'multiple', 'turns', 'of', 'wire', 'the', 'instruments', 'were', 'at', 'first', 'called', 'multipliers', 'due', 'to', 'this', 'common', 'design', 'feature2', 'the', 'term', 'galvanometer', 'in', 'common', 'use', 'by', '1836', 'was', 'derived', 'from', 'the', 'surname', 'of', 'italian', 'electricity', 'researcher', 'luigi', 'galvani', 'who', 'in', '1791', 'discovered', 'that', 'electric', 'current', 'would', 'make', 'a', 'dead', 'frogs', 'leg', 'jerk', 'poggendorff', 'and', 'thomson', 'edit', 'thomson', 'mirror', 'galvanometer', 'patented', 'in', '1858', 'originally', 'the', 'instruments', 'relied', 'on', 'the', 'earths', 'magnetic', 'field', 'to', 'provide', 'the', 'restoring', 'force', 'for', 'the', 'compass', 'needle', 'these', 'were', 'called', 'tangent', 'galvanometers', 'and', 'had', 'to', 'be', 'oriented', 'before', 'use', 'later', 'instruments', 'of', 'the', 'astatic', 'type', 'used', 'opposing', 'magnets', 'to', 'become', 'independent', 'of', 'the', 'earths', 'field', 'and', 'would', 'operate', 'in', 'any', 'orientation', 'mirror', 'galvanometer', 'edit', 'an', 'early', 'mirror', 'galvanometer', 'was', 'invented', 'in', '1826', 'by', 'johann', 'christian', 'poggendorffcitation', 'needed', 'the', 'most', 'sensitive', 'form', 'of', 'astatic', 'galvanometer', 'the', 'thomson', 'galvanometer', 'for', 'which', 'thomson', 'coined', 'the', 'term', 'mirror', 'galvanometer', 'was', 'patented', 'in', '1858', 'by', 'william', 'thomson', 'lord', 'kelvin', 'thomsons', 'mirror', 'galvanometer', 'was', 'an', 'improvement', 'of', 'a', 'design', 'invented', 'by', 'hermann', 'von', 'helmholtz', 'in', '18493', 'thomsons', 'design', 'was', 'able', 'to', 'detect', 'very', 'rapid', 'current', 'changes', 'by', 'using', 'small', 'magnets', 'attached', 'to', 'a', 'lightweight', 'mirror', 'suspended', 'by', 'a', 'thread', 'instead', 'of', 'a', 'compass', 'needle', 'the', 'deflection', 'of', 'a', 'light', 'beam', 'on', 'the', 'mirror', 'greatly', 'magnified', 'the', 'deflection', 'induced', 'by', 'small', 'currents', 'alternatively', 'the', 'deflection', 'of', 'the', 'suspended', 'magnets', 'could', 'be', 'observed', 'directly', 'through', 'a', 'microscope', 'georg', 'ohm', 'edit', 'the', 'ability', 'to', 'measure', 'quantitatively', 'voltage', 'and', 'current', 'allowed', 'georg', 'ohm', 'in', '1827', 'to', 'formulate', 'ohms', 'law', '–', 'that', 'the', 'voltage', 'across', 'a', 'conductor', 'is', 'directly', 'proportional', 'to', 'the', 'current', 'through', 'it', 'darsonval', 'and', 'deprez', 'edit', 'the', 'early', 'movingmagnet', 'form', 'of', 'galvanometer', 'had', 'the', 'disadvantage', 'that', 'it', 'was', 'affected', 'by', 'any', 'magnets', 'or', 'iron', 'masses', 'near', 'it', 'and', 'its', 'deflection', 'was', 'not', 'linearly', 'proportional', 'to', 'the', 'current', 'in', '1882', 'jacquesarsène', 'darsonval', 'and', 'marcel', 'deprez', 'developed', 'a', 'form', 'with', 'a', 'stationary', 'permanent', 'magnet', 'and', 'a', 'moving', 'coil', 'of', 'wire', 'suspended', 'by', 'fine', 'wires', 'which', 'provided', 'both', 'an', 'electrical', 'connection', 'to', 'the', 'coil', 'and', 'the', 'restoring', 'torque', 'to', 'return', 'to', 'the', 'zero', 'position', 'an', 'iron', 'tube', 'between', 'the', 'magnets', 'pole', 'pieces', 'defined', 'a', 'circular', 'gap', 'through', 'which', 'the', 'coil', 'rotated', 'this', 'gap', 'produced', 'a', 'consistent', 'radial', 'magnetic', 'field', 'across', 'the', 'coil', 'giving', 'a', 'linear', 'response', 'throughout', 'the', 'instruments', 'range', 'a', 'mirror', 'attached', 'to', 'the', 'coil', 'deflected', 'a', 'beam', 'of', 'light', 'to', 'indicate', 'the', 'coil', 'position', 'the', 'concentrated', 'magnetic', 'field', 'and', 'delicate', 'suspension', 'made', 'these', 'instruments', 'sensitive', 'darsonvals', 'initial', 'instrument', 'could', 'detect', 'ten', 'microamperes4', 'edward', 'weston', 'edit', 'darsonvalweston', 'galvanometer', 'ca', '1900', 'part', 'of', 'the', 'magnets', 'left', 'pole', 'piece', 'is', 'broken', 'out', 'to', 'show', 'the', 'coil', 'weston', 'galvanometer', 'in', 'portable', 'case', 'edward', 'weston', 'extensively', 'improved', 'the', 'design', 'he', 'replaced', 'the', 'fine', 'wire', 'suspension', 'with', 'a', 'pivot', 'and', 'provided', 'restoring', 'torque', 'and', 'electrical', 'connections', 'through', 'spiral', 'springs', 'rather', 'like', 'those', 'of', 'a', 'wristwatch', 'balance', 'wheel', 'hairspring', 'he', 'developed', 'a', 'method', 'of', 'stabilizing', 'the', 'magnetic', 'field', 'of', 'the', 'permanent', 'magnet', 'so', 'the', 'instrument', 'would', 'have', 'consistent', 'accuracy', 'over', 'time', 'he', 'replaced', 'the', 'light', 'beam', 'and', 'mirror', 'with', 'a', 'knifeedge', 'pointer', 'that', 'could', 'be', 'read', 'directly', 'a', 'mirror', 'under', 'the', 'pointer', 'in', 'the', 'same', 'plane', 'as', 'the', 'scale', 'eliminated', 'parallax', 'observation', 'error', 'to', 'maintain', 'the', 'field', 'strength', 'westons', 'design', 'used', 'a', 'very', 'narrow', 'circumferential', 'slot', 'through', 'which', 'the', 'coil', 'moved', 'with', 'a', 'minimal', 'airgap', 'this', 'improved', 'linearity', 'of', 'pointer', 'deflection', 'with', 'respect', 'to', 'coil', 'current', 'finally', 'the', 'coil', 'was', 'wound', 'on', 'a', 'lightweight', 'form', 'made', 'of', 'conductive', 'metal', 'which', 'acted', 'as', 'a', 'damper', 'by', '1888', 'edward', 'weston', 'had', 'patented', 'and', 'brought', 'out', 'a', 'commercial', 'form', 'of', 'this', 'instrument', 'which', 'became', 'a', 'standard', 'electrical', 'equipment', 'component', 'it', 'was', 'known', 'as', 'a', 'portable', 'instrument', 'because', 'it', 'was', 'affected', 'very', 'little', 'by', 'mounting', 'position', 'or', 'by', 'transporting', 'it', 'from', 'place', 'to', 'place', 'this', 'design', 'is', 'almost', 'universally', 'used', 'in', 'movingcoil', 'meters', 'today', 'initially', 'laboratory', 'instruments', 'relying', 'on', 'the', 'earths', 'own', 'magnetic', 'field', 'to', 'provide', 'restoring', 'force', 'for', 'the', 'pointer', 'galvanometers', 'were', 'developed', 'into', 'compact', 'rugged', 'sensitive', 'portable', 'instruments', 'essential', 'to', 'the', 'development', 'of', 'electrotechnology', 'tautband', 'movement', 'edit', 'the', 'tautband', 'movement', 'is', 'a', 'modern', 'development', 'of', 'the', 'darsonvalweston', 'movement', 'the', 'jewel', 'pivots', 'and', 'hairsprings', 'are', 'replaced', 'by', 'tiny', 'strips', 'of', 'metal', 'under', 'tension', 'such', 'a', 'meter', 'is', 'more', 'rugged', 'for', 'field', 'use5', 'types', 'edit', 'some', 'galvanometers', 'use', 'a', 'solid', 'pointer', 'on', 'a', 'scale', 'to', 'show', 'measurements', 'other', 'very', 'sensitive', 'types', 'use', 'a', 'miniature', 'mirror', 'and', 'a', 'beam', 'of', 'light', 'to', 'provide', 'mechanical', 'amplification', 'of', 'lowlevel', 'signals', 'tangent', 'galvanometer', 'edit', 'a', 'tangent', 'galvanometer', 'is', 'an', 'early', 'measuring', 'instrument', 'used', 'for', 'the', 'measurement', 'of', 'electric', 'current', 'it', 'works', 'by', 'using', 'a', 'compass', 'needle', 'to', 'compare', 'a', 'magnetic', 'field', 'generated', 'by', 'the', 'unknown', 'current', 'to', 'the', 'magnetic', 'field', 'of', 'the', 'earth', 'it', 'gets', 'its', 'name', 'from', 'its', 'operating', 'principle', 'the', 'tangent', 'law', 'of', 'magnetism', 'which', 'states', 'that', 'the', 'tangent', 'of', 'the', 'angle', 'a', 'compass', 'needle', 'makes', 'is', 'proportional', 'to', 'the', 'ratio', 'of', 'the', 'strengths', 'of', 'the', 'two', 'perpendicular', 'magnetic', 'fields', 'it', 'was', 'first', 'described', 'by', 'johan', 'jacob', 'nervander', 'in', '1834', 'see', 'jj', 'nervander', '“', 'mémoire', 'sur', 'un', 'galvanomètre', 'à', 'châssis', 'cylindrique', 'par', 'lequel', 'on', 'obtient', 'immédiatement', 'et', 'sans', 'calcul', 'la', 'mesure', 'de', 'l', '’', 'intensité', 'du', 'courant', 'électrique', 'qui', 'produit', 'la', 'déviation', 'de', 'l', '’', 'aiguille', 'aimantée', '”', 'annales', 'de', 'chimie', 'et', 'de', 'physique', 'paris', 'tome', '55', '156–184', '1834', 'and', 'j', 'venermo', 'and', 'a', 'sihvola', 'the', 'tangent', 'galvanometer', 'of', 'johan', 'jacob', 'nervander', 'ieee', 'instrumentation', 'measurement', 'magazine', 'vol', '11', 'no', '3', 'pp', '1623', 'june', '2008', 'and', 'in', '1837', 'by', 'claude', 'pouillet6', 'a', 'tangent', 'galvanometer', 'consists', 'of', 'a', 'coil', 'of', 'insulated', 'copper', 'wire', 'wound', 'on', 'a', 'circular', 'nonmagnetic', 'frame', 'the', 'frame', 'is', 'mounted', 'vertically', 'on', 'a', 'horizontal', 'base', 'provided', 'with', 'levelling', 'screws', 'the', 'coil', 'can', 'be', 'rotated', 'on', 'a', 'vertical', 'axis', 'passing', 'through', 'its', 'centre', 'a', 'compass', 'box', 'is', 'mounted', 'horizontally', 'at', 'the', 'centre', 'of', 'a', 'circular', 'scale', 'it', 'consists', 'of', 'a', 'tiny', 'powerful', 'magnetic', 'needle', 'pivoted', 'at', 'the', 'centre', 'of', 'the', 'coil', 'the', 'magnetic', 'needle', 'is', 'free', 'to', 'rotate', 'in', 'the', 'horizontal', 'plane', 'the', 'circular', 'scale', 'is', 'divided', 'into', 'four', 'quadrants', 'each', 'quadrant', 'is', 'graduated', 'from', '0°', 'to', '90°', 'a', 'long', 'thin', 'aluminium', 'pointer', 'is', 'attached', 'to', 'the', 'needle', 'at', 'its', 'centre', 'and', 'at', 'right', 'angle', 'to', 'it', 'to', 'avoid', 'errors', 'due', 'to', 'parallax', 'a', 'plane', 'mirror', 'is', 'mounted', 'below', 'the', 'compass', 'needle', 'in', 'operation', 'the', 'instrument', 'is', 'first', 'rotated', 'until', 'the', 'magnetic', 'field', 'of', 'the', 'earth', 'indicated', 'by', 'the', 'compass', 'needle', 'is', 'parallel', 'with', 'the', 'plane', 'of', 'the', 'coil', 'then', 'the', 'unknown', 'current', 'is', 'applied', 'to', 'the', 'coil', 'this', 'creates', 'a', 'second', 'magnetic', 'field', 'on', 'the', 'axis', 'of', 'the', 'coil', 'perpendicular', 'to', 'the', 'earths', 'magnetic', 'field', 'the', 'compass', 'needle', 'responds', 'to', 'the', 'vector', 'sum', 'of', 'the', 'two', 'fields', 'and', 'deflects', 'to', 'an', 'angle', 'equal', 'to', 'the', 'tangent', 'of', 'the', 'ratio', 'of', 'the', 'two', 'fields', 'from', 'the', 'angle', 'read', 'from', 'the', 'compasss', 'scale', 'the', 'current', 'could', 'be', 'found', 'from', 'a', 'table7', 'the', 'current', 'supply', 'wires', 'have', 'to', 'be', 'wound', 'in', 'a', 'small', 'helix', 'like', 'a', 'pigs', 'tail', 'otherwise', 'the', 'field', 'due', 'to', 'the', 'wire', 'will', 'affect', 'the', 'compass', 'needle', 'and', 'an', 'incorrect', 'reading', 'will', 'be', 'obtained', 'theory', 'edit', 'the', 'galvanometer', 'is', 'oriented', 'so', 'that', 'the', 'plane', 'of', 'the', 'coil', 'is', 'vertical', 'and', 'aligned', 'along', 'parallel', 'to', 'the', 'horizontal', 'component', 'b', 'h', 'of', 'the', 'earths', 'magnetic', 'field', 'ie', 'parallel', 'to', 'the', 'local', 'magnetic', 'meridian', 'when', 'an', 'electric', 'current', 'flows', 'through', 'the', 'galvanometer', 'coil', 'a', 'second', 'magnetic', 'field', 'b', 'is', 'created', 'at', 'the', 'center', 'of', 'the', 'coil', 'where', 'the', 'compass', 'needle', 'is', 'located', 'the', 'coils', 'field', 'is', 'perpendicular', 'to', 'the', 'plane', 'of', 'the', 'coil', 'the', 'magnitude', 'of', 'the', 'coils', 'field', 'is', 'b', 'μ', '0', 'n', 'i', '2', 'r', 'displaystyle', 'bmu', '0ni', 'over', '2r', 'where', 'i', 'is', 'the', 'current', 'in', 'amperes', 'n', 'is', 'the', 'number', 'of', 'turns', 'of', 'the', 'coil', 'and', 'r', 'is', 'the', 'radius', 'of', 'the', 'coil', 'these', 'two', 'perpendicular', 'magnetic', 'fields', 'add', 'vectorially', 'and', 'the', 'compass', 'needle', 'points', 'along', 'the', 'direction', 'of', 'their', 'resultant', 'b', 'h', 'b', 'the', 'current', 'in', 'the', 'coil', 'causes', 'the', 'compass', 'needle', 'to', 'rotate', 'by', 'an', 'angle', 'θ', 'θ', 'tan', '−', '1', '\\u2061', 'b', 'b', 'h', 'displaystyle', 'theta', 'tan', '1frac', 'bbh', 'from', 'tangent', 'law', 'b', 'b', 'h', 'tan', 'θ', 'ie', 'μ', '0', 'n', 'i', '2', 'r', 'b', 'h', 'tan', '\\u2061', 'θ', 'displaystyle', 'mu', '0ni', 'over', '2rbhtan', 'theta', 'or', 'i', '2', 'r', 'b', 'h', 'μ', '0', 'n', 'tan', '\\u2061', 'θ', 'displaystyle', 'ileftfrac', '2rbhmu', '0nrighttan', 'theta', 'or', 'i', 'k', 'tan', 'θ', 'where', 'k', 'is', 'called', 'the', 'reduction', 'factor', 'of', 'the', 'tangent', 'galvanometer', 'one', 'problem', 'with', 'the', 'tangent', 'galvanometer', 'is', 'that', 'its', 'resolution', 'degrades', 'at', 'both', 'high', 'currents', 'and', 'low', 'currents', 'the', 'maximum', 'resolution', 'is', 'obtained', 'when', 'the', 'value', 'of', 'θ', 'is', '45°', 'when', 'the', 'value', 'of', 'θ', 'is', 'close', 'to', '0°', 'or', '90°', 'a', 'large', 'percentage', 'change', 'in', 'the', 'current', 'will', 'only', 'move', 'the', 'needle', 'a', 'few', 'degrees8', 'geomagnetic', 'field', 'measurement', 'edit', 'a', 'tangent', 'galvanometer', 'can', 'also', 'be', 'used', 'to', 'measure', 'the', 'magnitude', 'of', 'the', 'horizontal', 'component', 'of', 'the', 'geomagnetic', 'field', 'when', 'used', 'in', 'this', 'way', 'a', 'lowvoltage', 'power', 'source', 'such', 'as', 'a', 'battery', 'is', 'connected', 'in', 'series', 'with', 'a', 'rheostat', 'the', 'galvanometer', 'and', 'an', 'ammeter', 'the', 'galvanometer', 'is', 'first', 'aligned', 'so', 'that', 'the', 'coil', 'is', 'parallel', 'to', 'the', 'geomagnetic', 'field', 'whose', 'direction', 'is', 'indicated', 'by', 'the', 'compass', 'when', 'there', 'is', 'no', 'current', 'through', 'the', 'coils', 'the', 'battery', 'is', 'then', 'connected', 'and', 'the', 'rheostat', 'is', 'adjusted', 'until', 'the', 'compass', 'needle', 'deflects', '45', 'degrees', 'from', 'the', 'geomagnetic', 'field', 'indicating', 'that', 'the', 'magnitude', 'of', 'the', 'magnetic', 'field', 'at', 'the', 'center', 'of', 'the', 'coil', 'is', 'the', 'same', 'as', 'that', 'of', 'the', 'horizontal', 'component', 'of', 'the', 'geomagnetic', 'field', 'this', 'field', 'strength', 'can', 'be', 'calculated', 'from', 'the', 'current', 'as', 'measured', 'by', 'the', 'ammeter', 'the', 'number', 'of', 'turns', 'of', 'the', 'coil', 'and', 'the', 'radius', 'of', 'the', 'coils', 'astatic', 'galvanometer', 'edit', 'unlike', 'the', 'tangent', 'galvanometer', 'the', 'astatic', 'galvanometer', 'does', 'not', 'use', 'the', 'earths', 'magnetic', 'field', 'for', 'measurement', 'so', 'it', 'does', 'not', 'need', 'to', 'be', 'oriented', 'with', 'respect', 'to', 'the', 'earths', 'field', 'making', 'it', 'easier', 'to', 'use', 'developed', 'by', 'leopoldo', 'nobili', 'in', '18259', 'it', 'consists', 'of', 'two', 'magnetized', 'needles', 'parallel', 'to', 'each', 'other', 'but', 'with', 'the', 'magnetic', 'poles', 'reversed', 'these', 'needles', 'are', 'suspended', 'by', 'a', 'single', 'silk', 'thread10', 'the', 'lower', 'needle', 'is', 'inside', 'a', 'vertical', 'current', 'sensing', 'coil', 'of', 'wire', 'and', 'is', 'deflected', 'by', 'the', 'magnetic', 'field', 'created', 'by', 'the', 'passing', 'current', 'as', 'in', 'the', 'tangent', 'galvanometer', 'above', 'the', 'purpose', 'of', 'the', 'second', 'needle', 'is', 'to', 'cancel', 'the', 'dipole', 'moment', 'of', 'the', 'first', 'needle', 'so', 'the', 'suspended', 'armature', 'has', 'no', 'net', 'magnetic', 'dipole', 'moment', 'and', 'thus', 'is', 'not', 'affected', 'by', 'the', 'earths', 'magnetic', 'field', 'the', 'needles', 'rotation', 'is', 'opposed', 'by', 'the', 'torsional', 'elasticity', 'of', 'the', 'suspension', 'thread', 'which', 'is', 'proportional', 'to', 'the', 'angle', 'mirror', 'galvanometer', 'edit', 'to', 'achieve', 'higher', 'sensitivity', 'to', 'detect', 'extremely', 'small', 'currents', 'the', 'mirror', 'galvanometer', 'substitutes', 'a', 'lightweight', 'mirror', 'for', 'the', 'pointer', 'it', 'consists', 'of', 'horizontal', 'magnets', 'suspended', 'from', 'a', 'fine', 'fiber', 'inside', 'a', 'vertical', 'coil', 'of', 'wire', 'with', 'a', 'mirror', 'attached', 'to', 'the', 'magnets', 'a', 'beam', 'of', 'light', 'reflected', 'from', 'the', 'mirror', 'falls', 'on', 'a', 'graduated', 'scale', 'across', 'the', 'room', 'acting', 'as', 'a', 'long', 'massless', 'pointer', 'the', 'mirror', 'galvanometer', 'was', 'used', 'as', 'the', 'receiver', 'in', 'the', 'first', 'transatlantic', 'submarine', 'telegraph', 'cables', 'in', 'the', '1850s', 'to', 'detect', 'the', 'extremely', 'faint', 'pulses', 'of', 'current', 'after', 'their', 'thousandmile', 'journey', 'under', 'the', 'atlantic', 'in', 'a', 'device', 'called', 'an', 'oscillograph', 'the', 'moving', 'beam', 'of', 'light', 'is', 'used', 'to', 'produce', 'graphs', 'of', 'current', 'versus', 'time', 'by', 'recording', 'measurements', 'on', 'photographic', 'film', 'the', 'string', 'galvanometer', 'is', 'a', 'type', 'of', 'mirror', 'galvanometer', 'so', 'sensitive', 'that', 'it', 'was', 'used', 'to', 'make', 'the', 'first', 'electrocardiogram', 'of', 'the', 'electrical', 'activity', 'of', 'the', 'human', 'heart', 'ballistic', 'galvanometer', 'edit', 'a', 'ballistic', 'galvanometer', 'is', 'a', 'type', 'of', 'sensitive', 'galvanometer', 'for', 'measuring', 'the', 'quantity', 'of', 'charge', 'discharged', 'through', 'it', 'in', 'reality', 'it', 'is', 'an', 'integrator', 'unlike', 'a', 'currentmeasuring', 'galvanometer', 'the', 'moving', 'part', 'has', 'a', 'large', 'moment', 'of', 'inertia', 'that', 'gives', 'it', 'a', 'long', 'oscillation', 'period', 'it', 'can', 'be', 'either', 'of', 'the', 'moving', 'coil', 'or', 'moving', 'magnet', 'type', 'commonly', 'it', 'is', 'a', 'mirror', 'galvanometer', 'see', 'also', 'edit']\n"
     ]
    }
   ],
   "source": [
    "def LemNormalize(text):\n",
    "    return nltk.word_tokenize(text.lower().translate(remove_punct_dict))\n",
    "print(LemNormalize(text))"
   ]
  },
  {
   "cell_type": "code",
   "execution_count": 14,
   "metadata": {},
   "outputs": [
    {
     "name": "stdout",
     "output_type": "stream",
     "text": [
      "DocBot: I am Smart Chat-Bot or Chat-Bot for short. I will answer your queries. If you want to exit, type Bye!\n",
      "hi\n",
      "Chat-Bot: hi\n",
      "bye\n",
      "Chat-Bot: Chat with you later !\n"
     ]
    }
   ],
   "source": [
    "flag = True\n",
    "print(\"DocBot: I am Smart Chat-Bot or Chat-Bot for short. I will answer your queries. If you want to exit, type Bye!\")\n",
    "while(flag == True):\n",
    "    user_response = input()\n",
    "    user_response = user_response.lower()\n",
    "    if(user_response != 'bye'):\n",
    "        if(user_response == 'thanks' or user_response == 'thank you'):\n",
    "            flag = False\n",
    "            print(\"Chat-Bot: You are Welcome !\")\n",
    "        else:\n",
    "            if(greeting(user_response) != None):\n",
    "                print(\"Chat-Bot: \"+greeting(user_response))\n",
    "            else:\n",
    "                print(\"Chat-Bot: \"+response(user_response))\n",
    "    else:\n",
    "        flag = False\n",
    "        print(\"Chat-Bot: Chat with you later !\")\n",
    "    "
   ]
  },
  {
   "cell_type": "code",
   "execution_count": 24,
   "metadata": {},
   "outputs": [
    {
     "ename": "NameError",
     "evalue": "name 'model' is not defined",
     "output_type": "error",
     "traceback": [
      "\u001b[1;31m---------------------------------------------------------------------------\u001b[0m",
      "\u001b[1;31mNameError\u001b[0m                                 Traceback (most recent call last)",
      "\u001b[1;32m<ipython-input-24-ae87b767d9fd>\u001b[0m in \u001b[0;36m<module>\u001b[1;34m\u001b[0m\n\u001b[1;32m----> 1\u001b[1;33m \u001b[0mmodel\u001b[0m\u001b[1;33m.\u001b[0m\u001b[0msave\u001b[0m\u001b[1;33m(\u001b[0m\u001b[1;34m\"Chat-Bot.h5\"\u001b[0m\u001b[1;33m)\u001b[0m\u001b[1;33m\u001b[0m\u001b[1;33m\u001b[0m\u001b[0m\n\u001b[0m",
      "\u001b[1;31mNameError\u001b[0m: name 'model' is not defined"
     ]
    }
   ],
   "source": [
    "model.save(\"Chat-Bot.h5\")"
   ]
  },
  {
   "cell_type": "code",
   "execution_count": null,
   "metadata": {},
   "outputs": [],
   "source": []
  }
 ],
 "metadata": {
  "kernelspec": {
   "display_name": "Python 3",
   "language": "python",
   "name": "python3"
  },
  "language_info": {
   "codemirror_mode": {
    "name": "ipython",
    "version": 3
   },
   "file_extension": ".py",
   "mimetype": "text/x-python",
   "name": "python",
   "nbconvert_exporter": "python",
   "pygments_lexer": "ipython3",
   "version": "3.7.3"
  }
 },
 "nbformat": 4,
 "nbformat_minor": 2
}
